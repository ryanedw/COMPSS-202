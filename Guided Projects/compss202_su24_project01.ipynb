{
 "cells": [
  {
   "cell_type": "markdown",
   "id": "c4943e00-491f-41d4-af95-91fd1238f12d",
   "metadata": {},
   "source": [
    "<img src=\"https://raw.githubusercontent.com/ryanedw/COMPSS-202-SU24/main/Images/UCB-macss.jpg\" width=\"120\" align=\"right\"/>\n",
    "<h1>COMPSS 202 Guided Project 1</h1>"
   ]
  },
  {
   "cell_type": "markdown",
   "id": "4c4cfe46-7f35-4fcf-88ba-49f79a894527",
   "metadata": {},
   "source": [
    "<h2>\"He's So Tall and Educated as Hell\"</h2>\n",
    "\n",
    "Inspired by [this person you've probably never heard of](https://en.wikipedia.org/wiki/Taylor_Swift) and her lyrics in [this song](https://en.wikipedia.org/wiki/Wildest_Dreams_(Taylor_Swift_song))"
   ]
  },
  {
   "attachments": {},
   "cell_type": "markdown",
   "id": "28a59427-9aec-4441-8c10-9abc6c7705e8",
   "metadata": {},
   "source": [
    "Feel free to work together in teams of 2-4 students. Please answer each question below in your own original and complete sentences. Questions appear in <b><font color=\"red\">bold red</font></b>. Be parsimonious: brief while also hitting the main points. Students earn scores on this project for complete answers, which can be either subjectively correct or incorrect.\n",
    "\n",
    "<b>This exercise is intended to blend familiarity with confusion.</b> Some questions have clear answers. Others have many answers, some of which are probably better answers than others, but all might still be correct in one way or another.\n"
   ]
  },
  {
   "cell_type": "markdown",
   "id": "0b614788-dfd1-48e3-838b-d62c03852284",
   "metadata": {},
   "source": [
    "To begin, please run the cells below to load up the libraries necessary to access data in Google Sheets. Best practices include running the cells in order."
   ]
  },
  {
   "cell_type": "code",
   "execution_count": null,
   "id": "635104b1-d28e-480d-aadf-42c62360f559",
   "metadata": {},
   "outputs": [],
   "source": [
    "install.packages(\"googlesheets4\")\n",
    "library(googlesheets4)\n",
    "gs4_deauth()"
   ]
  },
  {
   "attachments": {},
   "cell_type": "markdown",
   "id": "b6b37d88-928d-4112-8585-5093030a45c0",
   "metadata": {},
   "source": [
    "<h3>The data</h3>\n",
    "\n",
    "Consider the following dataset from the 8th wave in 2006 of the [U.S. Health and Retirement Study (HRS)](https://hrs.isr.umich.edu/about). It includes observations on objective height and weight and years of education for 2,063 male-female coupled dyads. Males are coded as “respondents,” whose variables start with the prefix \"r,\" and females are coded as \"spouses,\" with an \"s.\" Wave-specific variables are indexed by the next character in the variable name, like `r8heightbio` for objective height measured in wave 8 and `ragender` for the respondent's gender. Height and weight were measured by an interviewer during an enhanced face-to-face interview.\n",
    "\n",
    "Because males and females tend to have different heights, I dropped 24 same-sex dyads from the dataset to simplify the analysis. Same-sex couples are interesting and equally deserving of research focus, but their numbers are too small within the original HRS sample for us to examine them.\n",
    "\n",
    "I'll refer to the males as \"husbands\" and the females as \"wives.\""
   ]
  },
  {
   "cell_type": "markdown",
   "id": "9df7af65-fee9-494a-9959-08a5bbf7fa60",
   "metadata": {},
   "source": [
    "<b>To view the Sheets file, click here:</b> [HRS wave 8 hcouples.sheets](https://docs.google.com/spreadsheets/d/1FRsXnmTQWjZF5FdM2sPdA5Z91TkmXzvP0r8tA6bDTAM/edit?usp=sharing)"
   ]
  },
  {
   "cell_type": "code",
   "execution_count": null,
   "id": "c881dd2a-c149-45ab-8cb2-268fc983548c",
   "metadata": {},
   "outputs": [],
   "source": [
    "sheet_url = \"https://docs.google.com/spreadsheets/d/1FRsXnmTQWjZF5FdM2sPdA5Z91TkmXzvP0r8tA6bDTAM/edit?usp=sharing\"\n",
    "\n",
    "h8hcpl <- read_sheet(sheet_url,\n",
    "                         range = \"A1:P2064\")"
   ]
  },
  {
   "cell_type": "markdown",
   "id": "40c39e9a-1a90-4e9f-912e-b7c5f57fc9c3",
   "metadata": {},
   "source": [
    "First let's quickly examine the top of the dataset, examine its dimensions, and assign $n$ to be the number of rows, which is the sample size."
   ]
  },
  {
   "cell_type": "code",
   "execution_count": null,
   "id": "ec424212-8c95-44f2-94ec-d3d3841eae3a",
   "metadata": {},
   "outputs": [],
   "source": [
    "head(h8hcpl)\n",
    "dimensions = dim(h8hcpl)\n",
    "n = dimensions[1]\n",
    "n"
   ]
  },
  {
   "cell_type": "markdown",
   "id": "56662f5d-b138-46df-9468-6b6d6169b959",
   "metadata": {},
   "source": [
    "---"
   ]
  },
  {
   "cell_type": "markdown",
   "id": "e1e74bf6-8bb8-46ac-84c5-988a36181108",
   "metadata": {},
   "source": [
    "Run the code below to generate a histogram of the heights in inches of wives in the data."
   ]
  },
  {
   "cell_type": "code",
   "execution_count": null,
   "id": "2768f37d-8db2-4d89-92ce-825b3238774b",
   "metadata": {},
   "outputs": [],
   "source": [
    "hist(h8hcpl$s8heightbio_in,\n",
    "    main = \"Histogram of wives' heights in wave 8 of HRS\",\n",
    "    xlab = \"Objective height in inches\"\n",
    "    )"
   ]
  },
  {
   "attachments": {},
   "cell_type": "markdown",
   "id": "03d7abb8-ff37-4012-b273-319812297a87",
   "metadata": {},
   "source": [
    "<b><font color = \"red\">1(a). Describe the distribution of wives’ heights. Discuss its shape, referencing the right and left tail when appropriate. Take a guess at the mean.</font></b>"
   ]
  },
  {
   "cell_type": "markdown",
   "id": "bc714b32-38f2-4e0d-a848-eecadf2dd45c",
   "metadata": {},
   "source": []
  },
  {
   "cell_type": "markdown",
   "id": "f5ace8d0-1190-499f-ab39-adff01ab0d2d",
   "metadata": {},
   "source": [
    "<b><font color = \"red\">1(b). Calculate the mean of wife's height by completing the code below.</font></b>"
   ]
  },
  {
   "cell_type": "code",
   "execution_count": null,
   "id": "6868eef8-0c63-4fc7-b62f-2ebc69334411",
   "metadata": {},
   "outputs": [],
   "source": [
    "meanheight_wives = mean(h8hcpl$s8heightbio_in)\n",
    "meanheight_wives"
   ]
  },
  {
   "cell_type": "markdown",
   "id": "2d22439a-bd22-4dee-b274-38042e05197c",
   "metadata": {},
   "source": [
    "---"
   ]
  },
  {
   "cell_type": "markdown",
   "id": "f660febb-e994-47fe-92af-ec9c1e493d0a",
   "metadata": {},
   "source": [
    "Run the code below to generate a histogram of the heights in inches of husbands in the data."
   ]
  },
  {
   "cell_type": "code",
   "execution_count": null,
   "id": "a8d79a7e-52d0-44d2-8c0c-3b456b95233c",
   "metadata": {},
   "outputs": [],
   "source": [
    "hist(h8hcpl$r8heightbio_in,\n",
    "    main = \"Histogram of husbands' heights in wave 8 of HRS\",\n",
    "    xlab = \"Objective height in inches\"\n",
    "    )"
   ]
  },
  {
   "cell_type": "markdown",
   "id": "5d005559-de6d-4c30-8f82-2a2e29935c7c",
   "metadata": {},
   "source": [
    "<b><font color = \"red\">2(a). Describe the distribution of husbands’ heights. Discuss its shape, referencing the right and left tail when appropriate. Take a guess at the mean.</font></b>"
   ]
  },
  {
   "cell_type": "markdown",
   "id": "ee31b536-949b-436b-9d0a-4a43c1fa32a8",
   "metadata": {},
   "source": []
  },
  {
   "cell_type": "markdown",
   "id": "5bc487ca-7ab6-4c8b-9836-e2a5a802e0bc",
   "metadata": {},
   "source": [
    "<b><font color = \"red\">2(b). Calculate the mean of husband's height by completing the code below.</font></b>"
   ]
  },
  {
   "cell_type": "code",
   "execution_count": null,
   "id": "9bb40f64-79ce-4510-b3d8-a9952c228a7d",
   "metadata": {},
   "outputs": [],
   "source": [
    "meanheight_husbands = mean(h8hcpl$r8heightbio_in)\n",
    "meanheight_husbands"
   ]
  },
  {
   "cell_type": "markdown",
   "id": "87ab1b6d-19c0-409b-86af-04d226b1f99a",
   "metadata": {},
   "source": [
    "---"
   ]
  },
  {
   "cell_type": "markdown",
   "id": "8c495916-b4e7-4e80-9f0c-7325a880713e",
   "metadata": {},
   "source": [
    "Run the code below to generate a scatterplot of husbands' heights ($Y$) as function of wives' heights ($X$), with a horizontal line and a vertical line running through the point of averages."
   ]
  },
  {
   "cell_type": "code",
   "execution_count": null,
   "id": "25a3e509-b549-4a13-8235-5674299233e6",
   "metadata": {},
   "outputs": [],
   "source": [
    "plot(h8hcpl$s8heightbio_in, h8hcpl$r8heightbio_in, \n",
    "     main = \"Scatterplot of heights in HRS couples\",\n",
    "     xlab = \"Objective height of wife in inches\",\n",
    "     ylab = \"Objective height of husband in inches\"\n",
    "     )\n",
    "abline(v = meanheight_wives, \n",
    "       col = \"red\", \n",
    "       lwd = 2\n",
    "      )\n",
    "abline(h = meanheight_husbands,\n",
    "       col = \"blue\", \n",
    "       lwd = 2\n",
    "      ) "
   ]
  },
  {
   "attachments": {},
   "cell_type": "markdown",
   "id": "241cf7d7-a248-449a-b01f-4d349ac8cf46",
   "metadata": {},
   "source": [
    "<b><font color = \"red\">3. Discuss what you see in the scatterplot. Do you see a positive association between $Y$ and $X$? Or a negative association? Or no association? Take a stand and briefly describe.</font></b>"
   ]
  },
  {
   "cell_type": "markdown",
   "id": "097a9690-2115-4a61-b878-1612a6aed89e",
   "metadata": {},
   "source": []
  },
  {
   "cell_type": "markdown",
   "id": "fb62ce0e-6661-4a1a-a30a-7c88dba3e00a",
   "metadata": {},
   "source": [
    "Complete the code below and run it in order to find the Pearson correlation coefficient $r$; the standard deviation of $Y$, $SD(Y)$; the standard deviation of $X$, $SD(X)$; and the regression coefficient $\\beta = r \\times SD(Y)/SD(X)$."
   ]
  },
  {
   "cell_type": "code",
   "execution_count": null,
   "id": "8f6fcfd8-00fa-4ca6-ab64-aa3e761c808d",
   "metadata": {},
   "outputs": [],
   "source": [
    "r = cor(..., ...)\n",
    "r\n",
    "\n",
    "sdy = sd(...) * sqrt((n-1)/n)\n",
    "sdy\n",
    "\n",
    "sdx = sd(...) * sqrt((n-1)/n)\n",
    "sdx\n",
    "\n",
    "betacoef = r * sdy / sdx\n",
    "betacoef"
   ]
  },
  {
   "cell_type": "markdown",
   "id": "02a40d92-d9b8-4b85-83df-7c0f6be6c3f1",
   "metadata": {},
   "source": [
    "---"
   ]
  },
  {
   "attachments": {},
   "cell_type": "markdown",
   "id": "7973eb7d-3dc7-427d-9718-0a6a91d1670d",
   "metadata": {},
   "source": [
    "<b><font color = \"red\">4. Think about what $Y$ and $X$ actually are. Does $X$ cause $Y$? Or does $Y$ cause $X$? Discuss, both in a literal sense and also figuratively (i.e., abstractly, about what Y and X represent rather than just their literal meaning).</font></b>"
   ]
  },
  {
   "cell_type": "markdown",
   "id": "a82b52da-9c36-4c25-88c3-0933fbd4cda2",
   "metadata": {},
   "source": []
  },
  {
   "cell_type": "markdown",
   "id": "f55b5a13-b91a-4e1f-b8d8-da0461abe44c",
   "metadata": {},
   "source": [
    "---"
   ]
  },
  {
   "cell_type": "markdown",
   "id": "0752f41a-d31e-48c8-a55c-75d2e2ba6927",
   "metadata": {},
   "source": [
    "Run the code below to generate a histogram of the years of education among wives in the data."
   ]
  },
  {
   "cell_type": "code",
   "execution_count": null,
   "id": "a9cf20c5-0049-4294-898e-6861cc8d5b0f",
   "metadata": {},
   "outputs": [],
   "source": [
    "hist(h8hcpl$s8edyrs,\n",
    "    main = \"Histogram of wives' years of education in wave 8 of HRS\",\n",
    "    xlab = \"Years of education\"\n",
    "    )"
   ]
  },
  {
   "cell_type": "markdown",
   "id": "bcea54ec-ce13-4dad-aea0-06113ea231dd",
   "metadata": {},
   "source": [
    "<b><font color = \"red\">5(a). Describe the distribution of wives’ schooling. Discuss its shape, referencing the right and left tail when appropriate. Take a guess at the mean.</font></b>"
   ]
  },
  {
   "cell_type": "markdown",
   "id": "3b827b23-bb63-4e00-a5fd-a9299d629127",
   "metadata": {},
   "source": []
  },
  {
   "cell_type": "markdown",
   "id": "2f57b82f-38f9-46c9-900b-18b81d839e03",
   "metadata": {},
   "source": [
    "<b><font color = \"red\">5(b). Calculate the mean of wife's height by completing the code below. Note that there are missing values coded as NA in the education data, so you must deal with them inside the call to `mean()`.</font></b>"
   ]
  },
  {
   "cell_type": "code",
   "execution_count": null,
   "id": "0f8e5577-c5be-4969-b1d3-cbbf538490e9",
   "metadata": {},
   "outputs": [],
   "source": [
    "meanedyrs_wives = mean(h8hcpl$s8edyrs, na.rm = TRUE)\n",
    "meanedyrs_wives"
   ]
  },
  {
   "cell_type": "markdown",
   "id": "c0e56fe2-04c1-41e5-9d2f-12309251dc01",
   "metadata": {},
   "source": [
    "---"
   ]
  },
  {
   "cell_type": "markdown",
   "id": "4808eeb7-2cb5-48b6-9837-07dca81fdc84",
   "metadata": {},
   "source": [
    "Run the code below to generate a histogram of the years of education among husbands in the data."
   ]
  },
  {
   "cell_type": "code",
   "execution_count": null,
   "id": "5c3397cb-b3a7-4334-8db4-d23432ba23f1",
   "metadata": {},
   "outputs": [],
   "source": [
    "hist(h8hcpl$raedyrs,\n",
    "    main = \"Histogram of husbands' years of education in wave 8 of HRS\",\n",
    "    xlab = \"Years of education\"\n",
    "    )"
   ]
  },
  {
   "cell_type": "markdown",
   "id": "a9df6974-03f4-40f5-a698-6e38ef4bbfc6",
   "metadata": {},
   "source": [
    "<b><font color = \"red\">6(a). Describe the distribution of husbands’ schooling. Discuss its shape, referencing the right and left tail when appropriate. Take a guess at the mean.</font></b>"
   ]
  },
  {
   "cell_type": "markdown",
   "id": "4a423412-ce1a-48b7-a8cc-fff8440b2f73",
   "metadata": {},
   "source": []
  },
  {
   "cell_type": "markdown",
   "id": "aaf03857-b68e-4f04-8af3-729498e24293",
   "metadata": {},
   "source": [
    "<b><font color = \"red\">6(b). Calculate the mean of husband's height by completing the code below. Note that there are missing values coded as NA in the education data, so you must deal with them inside the call to `mean()`.</font></b>"
   ]
  },
  {
   "cell_type": "code",
   "execution_count": null,
   "id": "1fcc1b8f-7ced-4e87-93a3-ac2194c8af90",
   "metadata": {},
   "outputs": [],
   "source": [
    "meanedyrs_husbands = mean(h8hcpl$raedyrs, na.rm = TRUE)\n",
    "meanedyrs_husbands"
   ]
  },
  {
   "cell_type": "markdown",
   "id": "fb97d6f5-6726-4ea6-9537-2e0455afc266",
   "metadata": {},
   "source": [
    "---"
   ]
  },
  {
   "cell_type": "markdown",
   "id": "949371df-2eb1-484d-8245-d101a8bc518d",
   "metadata": {},
   "source": [
    "Run the code below to generate a scatterplot of husbands' education ($Y$) as function of wives' education ($X$), with a horizontal line and a vertical line running through the point of averages."
   ]
  },
  {
   "cell_type": "code",
   "execution_count": null,
   "id": "8b22b200-2e21-43c5-a490-ebd5f6ecb655",
   "metadata": {},
   "outputs": [],
   "source": [
    "plot(h8hcpl$s8edyrs, h8hcpl$r8heightbio_in, \n",
    "     main = \"Scatterplot of education in HRS couples\",\n",
    "     xlab = \"Wife's years of education\",\n",
    "     ylab = \"Objective height of husband in inches\"\n",
    "     )\n",
    "abline(v = meanedyrs_wives, \n",
    "       col = \"red\", \n",
    "       lwd = 2\n",
    "      )\n",
    "abline(h = meanheight_husbands,\n",
    "       col = \"blue\", \n",
    "       lwd = 2\n",
    "      ) "
   ]
  },
  {
   "cell_type": "markdown",
   "id": "c4be19de-e115-4f0f-8482-c82d1865ae9d",
   "metadata": {},
   "source": [
    "<b><font color = \"red\">7. Discuss what you see in the scatterplot. Do you see a positive association between $Y$ and $X$? Or a negative association? Or no association? Take a stand and briefly describe.</font></b>"
   ]
  },
  {
   "cell_type": "markdown",
   "id": "20feee37-afe6-4e1c-898e-b8fbea3528f6",
   "metadata": {},
   "source": []
  },
  {
   "cell_type": "markdown",
   "id": "60662665-0d8a-4788-b6d9-2c4b15da1572",
   "metadata": {},
   "source": [
    "---"
   ]
  },
  {
   "cell_type": "markdown",
   "id": "a8907487-dc7f-4fc1-94cb-a9525f541ea1",
   "metadata": {},
   "source": [
    "Complete the code below and run it in order to find the Pearson correlation coefficient $r$; the standard deviation of $Y$, $SD(Y)$; the standard deviation of $X$, $SD(X)$; and the regression coefficient $\\beta = r \\times SD(Y)/SD(X)$ for this $X$ and this $Y$.\n",
    "\n",
    "Note the funny change in syntax for `cor()` when there are missing values. :/"
   ]
  },
  {
   "cell_type": "code",
   "execution_count": null,
   "id": "615716d1-d348-43ed-81c7-677b0c47759d",
   "metadata": {},
   "outputs": [],
   "source": [
    "r_eh = cor(..., ..., use = \"complete.obs\")\n",
    "r_eh\n",
    "\n",
    "sdy_h = sd(..., na.rm = TRUE) * sqrt((n-1)/n)\n",
    "sdy_h\n",
    "\n",
    "sdx_e = sd(..., na.rm = TRUE) * sqrt((n-1)/n)\n",
    "sdx_e\n",
    "\n",
    "betacoef_eh = r_eh * sdy_h / sdx_e\n",
    "betacoef_eh"
   ]
  },
  {
   "cell_type": "markdown",
   "id": "a4794747-2b2b-41c5-a3a8-c10e5fc5dae6",
   "metadata": {},
   "source": [
    "---"
   ]
  },
  {
   "cell_type": "markdown",
   "id": "3b3f48b0-e3d6-4711-a14e-b25cbdf60532",
   "metadata": {},
   "source": [
    "<b><font color = \"red\">8. Think about what $Y$ and $X$ actually are. Does $X$ cause $Y$? Or does $Y$ cause $X$? Discuss, both in a literal sense and also figuratively (i.e., abstractly, about what Y and X represent rather than just their literal meaning).</font></b>"
   ]
  },
  {
   "cell_type": "markdown",
   "id": "a7164f27-5be4-4e92-9fad-2ebb1de60cd5",
   "metadata": {},
   "source": []
  },
  {
   "cell_type": "markdown",
   "id": "9c1fc503-4bc7-4559-bc17-4df9adcd8013",
   "metadata": {},
   "source": [
    "<div style=\"text-align: right\"> <span style=\"font-family:Papyrus; \">And they lived happily ever after. The End.</span></div>"
   ]
  },
  {
   "cell_type": "markdown",
   "id": "f607970b-66c2-4914-91e8-0ef0e356ae43",
   "metadata": {},
   "source": []
  }
 ],
 "metadata": {
  "kernelspec": {
   "display_name": "R",
   "language": "R",
   "name": "ir"
  },
  "language_info": {
   "codemirror_mode": "r",
   "file_extension": ".r",
   "mimetype": "text/x-r-source",
   "name": "R",
   "pygments_lexer": "r",
   "version": "4.3.2"
  }
 },
 "nbformat": 4,
 "nbformat_minor": 5
}

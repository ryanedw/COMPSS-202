{
 "cells": [
  {
   "cell_type": "markdown",
   "metadata": {},
   "source": [
    "<img src=\"https://raw.githubusercontent.com/ryanedw/COMPSS-202-SU24/main/Images/UCB-macss.jpg\" width=\"120\" align=\"right\"/>\n",
    "<h1>COMPSS 202 Guided Project 2</h1>"
   ]
  },
  {
   "attachments": {},
   "cell_type": "markdown",
   "metadata": {},
   "source": [
    "<h2>Student Performance, Attendance, Homework, and \"Preexisting Conditions\"</h2>\n",
    "\n",
    "Inspired by the work of [Jeffrey M. Wooldridge](https://econ.msu.edu/about/directory/Wooldridge-Jeffrey), who cites [Ronald Fisher](https://polisci.msu.edu/people/directory/fisher-ronald.html), [Carl E. Liedholm](https://www.canr.msu.edu/people/liedholm_carl1), and their research assistant Jeffrey Guilfoyle."
   ]
  },
  {
   "cell_type": "markdown",
   "metadata": {},
   "source": [
    "Feel free to work together in teams of 2-4 students. Please answer each question below in your own original and complete sentences. Questions appear in <b><font color=\"red\">bold red</font></b>. Be parsimonious: brief while also hitting the main points. Students earn scores on this project for complete answers, which can be either subjectively correct or incorrect.\n",
    "\n",
    "<b>This exercise is intended to blend familiarity with confusion.</b> Some questions have clear answers. Others have many answers, some of which are probably better answers than others, but all might still be correct in one way or another."
   ]
  },
  {
   "cell_type": "markdown",
   "metadata": {},
   "source": [
    "<h2>Setup: The Wooldridge data repository</h2>\n",
    "\n",
    "[In the MaCSS program](https://macss.berkeley.edu/curriculum/), students will work in small groups to complete a capstone project. If you find yourself in need of a capstone topic, there are two basic ways to specify a research plan that uses data:\n",
    "\n",
    "1. Identify a research question that interests you, then find some data that will help you answer it\n",
    "\n",
    "2. Find some data, then identify a research question you can answer with the data\n",
    "\n",
    "Option #2 is a particularly good one when you don't have much time. The data repository assembled by the econometrician and educator Jeffrey M. Wooldridge, on faculty at Michigan State, is a useful place to start if you're interested in topics related to economics. As of version 1.4-3, the `wooldridge` [package](https://cran.r-project.org/web/packages/wooldridge/) contains 115 datasets used in the _Introductory Econometrics: A Modern Approach, 7e_ by Jeffrey M. Wooldridge.\n",
    "\n",
    "Let's start by installing and adding the package to our library."
   ]
  },
  {
   "cell_type": "code",
   "execution_count": null,
   "metadata": {},
   "outputs": [],
   "source": [
    "install.packages(\"wooldridge\")\n",
    "library(\"wooldridge\")"
   ]
  },
  {
   "cell_type": "markdown",
   "metadata": {},
   "source": [
    "<h2>Browsing the Repository</h2>"
   ]
  },
  {
   "cell_type": "markdown",
   "metadata": {},
   "source": [
    "With 115 datasets to choose from, you might feel like a deer in headlights! If you want to look for a different dataset and aren't sure where to start, you might try searching the [documentation PDF](https://cran.r-project.org/web/packages/wooldridge/wooldridge.pdf) for keywords or phrases. If you find a dataset that sounds interesting, you can write new __R__ code using the examples below, but replace `attend` with the title of the dataset you want to examine."
   ]
  },
  {
   "cell_type": "markdown",
   "metadata": {},
   "source": [
    "## Reading in the Data"
   ]
  },
  {
   "cell_type": "markdown",
   "metadata": {},
   "source": [
    "To read in data from the repository, use the `data()` function and the name of the dataset. This function creates a data frame in your workspace with that name."
   ]
  },
  {
   "cell_type": "code",
   "execution_count": null,
   "metadata": {},
   "outputs": [],
   "source": [
    "data(attend)"
   ]
  },
  {
   "cell_type": "markdown",
   "metadata": {},
   "source": [
    "Let's look at the first 6 rows of the dataset, and let's check the dimensions of the data frame."
   ]
  },
  {
   "cell_type": "code",
   "execution_count": null,
   "metadata": {},
   "outputs": [],
   "source": [
    "head(attend)\n",
    "dim(attend)\n",
    "n = nrow(attend)\n",
    "n"
   ]
  },
  {
   "cell_type": "markdown",
   "metadata": {},
   "source": [
    "To get more details about the dataset, we can use a `?` prefix. Let's check it out: "
   ]
  },
  {
   "cell_type": "code",
   "execution_count": null,
   "metadata": {},
   "outputs": [],
   "source": [
    "?attend"
   ]
  },
  {
   "cell_type": "markdown",
   "metadata": {},
   "source": [
    "---"
   ]
  },
  {
   "cell_type": "markdown",
   "metadata": {},
   "source": [
    "<h1>Exercises: Distributions</h1>"
   ]
  },
  {
   "cell_type": "markdown",
   "metadata": {},
   "source": [
    "<h2>1. final</h2>"
   ]
  },
  {
   "cell_type": "markdown",
   "metadata": {},
   "source": [
    "Below is a histogram of the final exam score. Run the code and answer the questions that follow."
   ]
  },
  {
   "cell_type": "code",
   "execution_count": null,
   "metadata": {},
   "outputs": [],
   "source": [
    "hist(attend$final,\n",
    "    main = \"Histogram of the final exam score\",\n",
    "    xlab = \"Final exam score\"\n",
    "    )"
   ]
  },
  {
   "cell_type": "markdown",
   "metadata": {},
   "source": [
    "<b><font color = \"red\">1(a). Describe what you see. Take a guess at the mean and median, remembering that lopsided tails can affect the relationship between these two measures. Tell a brief story in a sentence or two about the students in the dataset, based on what you have described.</font></b>"
   ]
  },
  {
   "cell_type": "markdown",
   "metadata": {},
   "source": []
  },
  {
   "cell_type": "markdown",
   "metadata": {},
   "source": [
    "Now let's calculate the mean and median and see how you did."
   ]
  },
  {
   "cell_type": "code",
   "execution_count": null,
   "metadata": {},
   "outputs": [],
   "source": [
    "mean(attend$final)\n",
    "median(attend$final)"
   ]
  },
  {
   "cell_type": "markdown",
   "metadata": {},
   "source": [
    "<b><font color = \"red\">1(b). Does this surprise you? Or does it confirm what you guessed?</font>"
   ]
  },
  {
   "cell_type": "markdown",
   "metadata": {},
   "source": []
  },
  {
   "cell_type": "markdown",
   "metadata": {},
   "source": [
    "---"
   ]
  },
  {
   "cell_type": "markdown",
   "metadata": {},
   "source": [
    "<h2>2. missed</h2>"
   ]
  },
  {
   "cell_type": "markdown",
   "metadata": {},
   "source": [
    "Below, plot a histogram of `missed`. Complete the code, run it, and answer the questions that follow."
   ]
  },
  {
   "cell_type": "code",
   "execution_count": null,
   "metadata": {},
   "outputs": [],
   "source": [
    "hist(attend$missed,\n",
    "    main = \"Histogram of missed classes\",\n",
    "    xlab = \"Missed classes\"\n",
    "    )"
   ]
  },
  {
   "cell_type": "markdown",
   "metadata": {},
   "source": [
    "<b><font color = \"red\">2(a). Describe what you see. Take a guess at the mean and median, remembering that lopsided tails can affect the relationship between these two measures. Tell a brief story in a sentence or two about the students in the dataset, based on what you have described.</font></b>"
   ]
  },
  {
   "cell_type": "markdown",
   "metadata": {},
   "source": []
  },
  {
   "cell_type": "markdown",
   "metadata": {},
   "source": [
    "Now let's calculate the mean and median and see how you did."
   ]
  },
  {
   "cell_type": "code",
   "execution_count": null,
   "metadata": {},
   "outputs": [],
   "source": [
    "mean(attend$missed)\n",
    "median(attend$missed)"
   ]
  },
  {
   "cell_type": "markdown",
   "metadata": {},
   "source": [
    "<b><font color = \"red\">2(b). Does this surprise you? Or does it confirm what you guessed?</font></b>"
   ]
  },
  {
   "cell_type": "markdown",
   "metadata": {},
   "source": []
  },
  {
   "cell_type": "markdown",
   "metadata": {},
   "source": [
    "---"
   ]
  },
  {
   "cell_type": "markdown",
   "metadata": {},
   "source": [
    "<h2>3. hwrte</h2>"
   ]
  },
  {
   "cell_type": "markdown",
   "metadata": {},
   "source": [
    "Below, plot a histogram of `hwrte`. Complete the code, run it, and answer the questions that follow."
   ]
  },
  {
   "cell_type": "code",
   "execution_count": null,
   "metadata": {},
   "outputs": [],
   "source": [
    "hist(...,\n",
    "    main = \"Histogram of percent of homework turned in\",\n",
    "    xlab = \"Percent of homework turned in\"\n",
    "    )"
   ]
  },
  {
   "cell_type": "markdown",
   "metadata": {},
   "source": [
    "<b><font color = \"red\">3(a). Describe what you see. Take a guess at the mean and median, remembering that lopsided tails can affect the relationship between these two measures. Tell a brief story in a sentence or two about the students in the dataset, based on what you have described.</font></b>"
   ]
  },
  {
   "cell_type": "markdown",
   "metadata": {},
   "source": []
  },
  {
   "cell_type": "markdown",
   "metadata": {},
   "source": [
    "Now let's calculate the mean and median and see how you did."
   ]
  },
  {
   "cell_type": "code",
   "execution_count": null,
   "metadata": {},
   "outputs": [],
   "source": [
    "mean(..., na.rm = TRUE)\n",
    "median(..., na.rm = TRUE)"
   ]
  },
  {
   "cell_type": "markdown",
   "metadata": {},
   "source": [
    "<b><font color = \"red\">3(b). Does this surprise you? Or does it confirm what you guessed?</font></b>"
   ]
  },
  {
   "cell_type": "markdown",
   "metadata": {},
   "source": []
  },
  {
   "cell_type": "markdown",
   "metadata": {},
   "source": [
    "---"
   ]
  },
  {
   "cell_type": "markdown",
   "metadata": {},
   "source": [
    "<h2>4. priGPA</h2>"
   ]
  },
  {
   "cell_type": "markdown",
   "metadata": {},
   "source": [
    "Below, plot a histogram of `priGPA`. Complete the code, run it, and answer the questions that follow."
   ]
  },
  {
   "cell_type": "code",
   "execution_count": null,
   "metadata": {},
   "outputs": [],
   "source": [
    "hist(...,\n",
    "    main = \"Histogram of GPA prior to term\",\n",
    "    xlab = \"GPA prior to term\"\n",
    "    )"
   ]
  },
  {
   "cell_type": "markdown",
   "metadata": {},
   "source": [
    "<b><font color = \"red\">4(a). Describe what you see. Take a guess at the mean and median, remembering that lopsided tails can affect the relationship between these two measures. Tell a brief story in a sentence or two about the students in the dataset, based on what you have described.</font></b>"
   ]
  },
  {
   "cell_type": "markdown",
   "metadata": {},
   "source": []
  },
  {
   "cell_type": "markdown",
   "metadata": {},
   "source": [
    "Now let's calculate the mean and median and see how you did."
   ]
  },
  {
   "cell_type": "code",
   "execution_count": null,
   "metadata": {},
   "outputs": [],
   "source": [
    "mean(..., na.rm = TRUE)\n",
    "median(..., na.rm = TRUE)"
   ]
  },
  {
   "cell_type": "markdown",
   "metadata": {},
   "source": [
    "<b><font color = \"red\">4(b). Does this surprise you? Or does it confirm what you guessed?</font></b>"
   ]
  },
  {
   "cell_type": "markdown",
   "metadata": {},
   "source": [
    "Again, qualitatively about right, but it's clear that when I guess, I end up exaggerating the story in a quantitative sense!"
   ]
  },
  {
   "cell_type": "markdown",
   "metadata": {},
   "source": [
    "---"
   ]
  },
  {
   "cell_type": "markdown",
   "metadata": {},
   "source": [
    "<h2>5. ACT</h2>"
   ]
  },
  {
   "cell_type": "markdown",
   "metadata": {},
   "source": [
    "Below, plot a histogram of `ACT`. Complete the code, run it, and answer the questions that follow."
   ]
  },
  {
   "cell_type": "code",
   "execution_count": null,
   "metadata": {},
   "outputs": [],
   "source": [
    "hist(...,\n",
    "    main = \"Histogram of ACT score\",\n",
    "    xlab = \"ACT score\"\n",
    "    )"
   ]
  },
  {
   "cell_type": "markdown",
   "metadata": {},
   "source": [
    "<b><font color = \"red\">5(a). Describe what you see. Take a guess at the mean and median, remembering that lopsided tails can affect the relationship between these two measures. Tell a brief story in a sentence or two about the students in the dataset, based on what you have described.</font></b>"
   ]
  },
  {
   "cell_type": "markdown",
   "metadata": {},
   "source": []
  },
  {
   "cell_type": "code",
   "execution_count": null,
   "metadata": {},
   "outputs": [],
   "source": [
    "mean(..., na.rm = TRUE)\n",
    "median(..., na.rm = TRUE)"
   ]
  },
  {
   "cell_type": "markdown",
   "metadata": {},
   "source": [
    "<b><font color = \"red\">5(b). Does this surprise you? Or does it confirm what you guessed?</font></b>"
   ]
  },
  {
   "cell_type": "markdown",
   "metadata": {},
   "source": []
  },
  {
   "cell_type": "markdown",
   "metadata": {},
   "source": [
    "---"
   ]
  },
  {
   "cell_type": "markdown",
   "metadata": {},
   "source": [
    "<h1>Exercises: Scatterplots</h1>"
   ]
  },
  {
   "cell_type": "markdown",
   "metadata": {},
   "source": [
    "<h2>6. final vs. priGPA</h2>"
   ]
  },
  {
   "cell_type": "markdown",
   "metadata": {},
   "source": [
    "Run the code below to generate a scatterplot of `final` ($Y$) versus `priGPA` ($X$), with an overlaid least squares regression line in blue. The code below first uses `lm()` to run ordinary least squares and find the estimates of the slope $\\hat{\\beta}$ and the intercept $\\hat{\\alpha}$ parameters, and then it generates the scatterplot with `plot()` and overlays the line using `abline()`."
   ]
  },
  {
   "cell_type": "code",
   "execution_count": null,
   "metadata": {},
   "outputs": [],
   "source": [
    "reg1 <- lm(final ~ priGPA,\n",
    "           data = attend)\n",
    "\n",
    "plot(attend$priGPA, attend$final,\n",
    "    main = \"Final exam score (Y) vs. prior GPA (X)\",\n",
    "    xlab = \"Prior GPA\",\n",
    "    ylab = \"Final exam score\"\n",
    "    )\n",
    "\n",
    "abline(reg1, col = \"blue\", lwd = 2)"
   ]
  },
  {
   "cell_type": "markdown",
   "metadata": {},
   "source": [
    "<b><font color = \"red\">6(a). Does it make sense that this $X$ might cause this $Y$, or should the variables be switched? Briefly discuss.</font></b>"
   ]
  },
  {
   "cell_type": "markdown",
   "metadata": {},
   "source": []
  },
  {
   "cell_type": "markdown",
   "metadata": {},
   "source": [
    "Generate the correlation, the standard deviations, and the regression slope coefficient using the code below."
   ]
  },
  {
   "cell_type": "code",
   "execution_count": null,
   "metadata": {},
   "outputs": [],
   "source": [
    "r1 <- cor(attend$priGPA, attend$final)\n",
    "r1\n",
    "\n",
    "sd_priGPA = sd(attend$priGPA) * sqrt( (n-1)/n )\n",
    "sd_priGPA\n",
    "\n",
    "sd_final = sd(attend$final) * sqrt( (n-1)/n )\n",
    "sd_final\n",
    "\n",
    "beta1 <- r1 * sd_final / sd_priGPA\n",
    "beta1"
   ]
  },
  {
   "cell_type": "markdown",
   "metadata": {},
   "source": [
    "<b><font color = \"red\">6(b). In a sentence or two, describe what you've found, i.e., this correlation coefficient, these standard deviations, and this regression coefficient. What do these values mean in this model, for these variables, and ultimately for these MSU students?</font></b>"
   ]
  },
  {
   "cell_type": "markdown",
   "metadata": {},
   "source": []
  },
  {
   "cell_type": "markdown",
   "metadata": {},
   "source": [
    "---"
   ]
  },
  {
   "cell_type": "markdown",
   "metadata": {},
   "source": [
    "<h2>7. missed vs. priGPA</h2>"
   ]
  },
  {
   "cell_type": "markdown",
   "metadata": {},
   "source": [
    "Run the code below to generate a scatterplot of `missed` ($Y$) versus `priGPA` ($X$), with an overlaid least squares regression line in blue. The code below first uses `lm()` to run ordinary least squares and find the estimates of the slope $\\hat{\\beta}$ and the intercept $\\hat{\\alpha}$ parameters, and then it generates the scatterplot with `plot()` and overlays the line using `abline()`."
   ]
  },
  {
   "cell_type": "code",
   "execution_count": null,
   "metadata": {},
   "outputs": [],
   "source": [
    "reg2 <- lm(...,\n",
    "           data = attend)\n",
    "\n",
    "plot(..., ...,\n",
    "    main = \"Missed classes (Y) vs. prior GPA (X)\",\n",
    "    xlab = \"Prior GPA\",\n",
    "    ylab = \"Missed classes\"\n",
    "    )\n",
    "\n",
    "abline(reg2, col = \"blue\", lwd = 2)"
   ]
  },
  {
   "cell_type": "markdown",
   "metadata": {},
   "source": [
    "<b><font color = \"red\">7(a). Does it make sense that this $X$ might cause this $Y$, or should the variables be switched? Briefly discuss.</font></b>"
   ]
  },
  {
   "cell_type": "markdown",
   "metadata": {},
   "source": []
  },
  {
   "cell_type": "markdown",
   "metadata": {},
   "source": [
    "Generate the correlation, the standard deviations, and the regression slope coefficient using the code below."
   ]
  },
  {
   "cell_type": "code",
   "execution_count": null,
   "metadata": {},
   "outputs": [],
   "source": [
    "r2 <- cor(..., ...)\n",
    "r2\n",
    "\n",
    "sd_priGPA = sd(attend$priGPA) * sqrt( (n-1)/n )\n",
    "sd_priGPA\n",
    "\n",
    "sd_missed = sd(attend$missed) * sqrt( (n-1)/n )\n",
    "sd_missed\n",
    "\n",
    "beta2 <- r2 * sd_missed / sd_priGPA\n",
    "beta2"
   ]
  },
  {
   "cell_type": "markdown",
   "metadata": {},
   "source": [
    "<b><font color = \"red\">7(b). In a sentence or two, describe what you've found, i.e., this correlation coefficient, these standard deviations, and this regression coefficient. What do these values mean in this model, for these variables, and ultimately for these MSU students?</font></b>"
   ]
  },
  {
   "cell_type": "markdown",
   "metadata": {},
   "source": []
  },
  {
   "cell_type": "markdown",
   "metadata": {},
   "source": [
    "---"
   ]
  },
  {
   "cell_type": "markdown",
   "metadata": {},
   "source": [
    "<h2>8. final vs. missed</h2>"
   ]
  },
  {
   "cell_type": "markdown",
   "metadata": {},
   "source": [
    "Run the code below to generate a scatterplot of `final` ($Y$) versus `missed` ($X$), with an overlaid least squares regression line in blue. The code below first uses `lm()` to run ordinary least squares and find the estimates of the slope $\\hat{\\beta}$ and the intercept $\\hat{\\alpha}$ parameters, and then it generates the scatterplot with `plot()` and overlays the line using `abline()`."
   ]
  },
  {
   "cell_type": "code",
   "execution_count": null,
   "metadata": {},
   "outputs": [],
   "source": [
    "reg3 <- lm(...,\n",
    "           data = attend)\n",
    "\n",
    "plot(..., ...,\n",
    "    main = \"Final exam score (Y) vs. missed classes (X)\",\n",
    "    xlab = \"Missed classes\",\n",
    "    ylab = \"Final exam score\"\n",
    "    )\n",
    "\n",
    "abline(reg3, col = \"blue\", lwd = 2)"
   ]
  },
  {
   "cell_type": "markdown",
   "metadata": {},
   "source": [
    "<b><font color = \"red\">8(a). Does it make sense that this $X$ might cause this $Y$, or should the variables be switched? Briefly discuss.</font></b>"
   ]
  },
  {
   "cell_type": "markdown",
   "metadata": {},
   "source": []
  },
  {
   "cell_type": "markdown",
   "metadata": {},
   "source": [
    "Generate the correlation, the standard deviations, and the regression slope coefficient using the code below."
   ]
  },
  {
   "cell_type": "code",
   "execution_count": null,
   "metadata": {},
   "outputs": [],
   "source": [
    "r3 <- cor(..., ...)\n",
    "r3\n",
    "\n",
    "sd_final = sd(attend$final) * sqrt( (n-1)/n )\n",
    "sd_final\n",
    "\n",
    "sd_missed = sd(attend$missed) * sqrt( (n-1)/n )\n",
    "sd_missed\n",
    "\n",
    "beta3 <- r3 * sd_final / sd_missed\n",
    "beta3"
   ]
  },
  {
   "cell_type": "markdown",
   "metadata": {},
   "source": [
    "<b><font color = \"red\">8(b). In a sentence or two, describe what you've found, i.e., this correlation coefficient, these standard deviations, and this regression coefficient. What do these values mean in this model, for these variables, and ultimately for these MSU students?</font></b>"
   ]
  },
  {
   "cell_type": "markdown",
   "metadata": {},
   "source": []
  },
  {
   "cell_type": "markdown",
   "metadata": {},
   "source": [
    "---"
   ]
  },
  {
   "cell_type": "markdown",
   "metadata": {},
   "source": [
    "<font color = \"red\"><b>9. What does your eye tell you about the determinants of the final exam score? Which of the variables we examined seem likely to you to be <i>statistically significant</i> predictors of the final exam score?</b> (Full credit is awarded for reasonable answers. The full reveal awaits you in further MaCSS coursework on multivariate regression ... and in the answer key.)</font>"
   ]
  },
  {
   "cell_type": "markdown",
   "metadata": {},
   "source": []
  },
  {
   "cell_type": "markdown",
   "metadata": {},
   "source": [
    "---"
   ]
  },
  {
   "cell_type": "markdown",
   "metadata": {},
   "source": [
    "<div style=\"text-align: right\"> <span style=\"font-family:Papyrus; \">And they lived happily ever after. The End.</span></div>"
   ]
  }
 ],
 "metadata": {
  "kernelspec": {
   "display_name": "R",
   "language": "R",
   "name": "ir"
  },
  "language_info": {
   "codemirror_mode": "r",
   "file_extension": ".r",
   "mimetype": "text/x-r-source",
   "name": "R",
   "pygments_lexer": "r",
   "version": "4.3.2"
  }
 },
 "nbformat": 4,
 "nbformat_minor": 4
}

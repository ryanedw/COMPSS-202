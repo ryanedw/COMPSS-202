{
 "cells": [
  {
   "cell_type": "markdown",
   "id": "c4943e00-491f-41d4-af95-91fd1238f12d",
   "metadata": {},
   "source": [
    "<img src=\"https://raw.githubusercontent.com/ryanedw/COMPSS-202-SU24/main/Images/UCB-macss.jpg\" width=\"120\" align=\"right\"/>\n",
    "<h1>COMPSS 202 Class 05</h1>"
   ]
  },
  {
   "cell_type": "markdown",
   "id": "4c4cfe46-7f35-4fcf-88ba-49f79a894527",
   "metadata": {},
   "source": [
    "<h2>Correlation</h2>\n",
    "\n",
    "Inspired by [SticiGui Chapter 7](https://www.stat.berkeley.edu/~stark/SticiGui/Text/correlation.htm) and by [SticiGui Chapter 8](https://www.stat.berkeley.edu/~stark/SticiGui/Text/computeR.htm)"
   ]
  },
  {
   "cell_type": "markdown",
   "id": "9b77f72c-9bf6-4808-856d-7779e492179a",
   "metadata": {},
   "source": [
    "<h3>Learning objectives:</h3>\n",
    "\n",
    "1. The correlation coefficient $r$ or $R$, also called the Pearson correlation, measures whether and how tightly $Y$ and $X$ move together\n",
    "2. The correlation has a sign and is always bounded: $-1 \\leq r \\leq 1$\n",
    "3. The familiar metric for regression fit $R^2$ is indeed just the square of this $r$, if there is only one $X$. The correlation is also related to the slope of the regression line\n",
    "4. To calculate $r$, just use a statistical program. But to build intuition, we will calculate normalized deviations from the mean"
   ]
  },
  {
   "cell_type": "markdown",
   "id": "1d66ba97-e239-451a-b4cd-60a2606a04b9",
   "metadata": {},
   "source": [
    "To begin, please run the cells below to load up the libraries necessary to access data in Google Sheets. Best practices include running the cells in order."
   ]
  },
  {
   "cell_type": "code",
   "execution_count": null,
   "id": "635104b1-d28e-480d-aadf-42c62360f559",
   "metadata": {},
   "outputs": [],
   "source": [
    "install.packages(\"googlesheets4\")\n",
    "library(googlesheets4)\n",
    "gs4_deauth()"
   ]
  },
  {
   "cell_type": "markdown",
   "id": "9ccedfdd-5a84-4314-a8d5-9a43043a6bda",
   "metadata": {},
   "source": [
    "Here again are 1,078 observations of \"fathers\" and \"sons\" from a well-known training dataset based on the historical work of [Karl Pearson](https://en.wikipedia.org/wiki/Karl_Pearson). Please see the Class 03 notebook for more details."
   ]
  },
  {
   "cell_type": "markdown",
   "id": "0cf5429b-3119-4bc7-81f2-22f113bcfc61",
   "metadata": {},
   "source": [
    "Here is a direct link to the Google Sheets file loaded in the cell below: [Pearson height data.sheets](https://docs.google.com/spreadsheets/d/1TZhFGjT-uXd9ScucSYkT0MNARNDMCRCbAQgx4jac-X8/edit?usp=drive_link)"
   ]
  },
  {
   "cell_type": "code",
   "execution_count": null,
   "id": "c881dd2a-c149-45ab-8cb2-268fc983548c",
   "metadata": {},
   "outputs": [],
   "source": [
    "sheet_url = \"https://docs.google.com/spreadsheets/d/1TZhFGjT-uXd9ScucSYkT0MNARNDMCRCbAQgx4jac-X8/edit?usp=drive_link\"\n",
    "\n",
    "pheights <- read_sheet(sheet_url,\n",
    "                       range = \"B13:D1091\")"
   ]
  },
  {
   "cell_type": "markdown",
   "id": "b344247a-9db0-48b0-8f00-d256095ac560",
   "metadata": {},
   "source": [
    "Calling `head()` provides a useful quick look at the top of the dataset."
   ]
  },
  {
   "cell_type": "code",
   "execution_count": null,
   "id": "ec424212-8c95-44f2-94ec-d3d3841eae3a",
   "metadata": {},
   "outputs": [],
   "source": [
    "head(pheights)"
   ]
  },
  {
   "cell_type": "markdown",
   "id": "c3b66c01-7392-4f93-a53c-114122dc8d1d",
   "metadata": {},
   "source": [
    "Let's create a scatterplot. Here's a simple way to do it:"
   ]
  },
  {
   "cell_type": "code",
   "execution_count": null,
   "id": "4b38d10a-36ff-40c1-a755-4758c8d4aacd",
   "metadata": {},
   "outputs": [],
   "source": [
    "plot(pheights$father, pheights$son,\n",
    "     main = \"Pearson height dataset n = 1,078\",\n",
    "     xlab = \"Height of the father in inches\",\n",
    "     ylab = \"Height of the son in inches\")"
   ]
  },
  {
   "cell_type": "markdown",
   "id": "78aa4cba-006a-448b-9d01-6461cf2c3b21",
   "metadata": {},
   "source": [
    "Calculating the Pearson correlation cleanly seems to require passing a few options. `method = \"pearson\"` appears to be redundant here, but I'll include it anyway. __R__ and other statistical programs tend to get finicky about missing observations, and `use = \"complete.obs\"` seems to help."
   ]
  },
  {
   "cell_type": "code",
   "execution_count": null,
   "id": "be791854-d6dc-4439-9b1a-3852ee354124",
   "metadata": {},
   "outputs": [],
   "source": [
    "r = cor(pheights$father, pheights$son,\n",
    "        method = \"pearson\",\n",
    "        use = \"complete.obs\"\n",
    "       )\n",
    "r"
   ]
  },
  {
   "cell_type": "markdown",
   "id": "a20faca3-8028-4da8-8358-bc2accbee46e",
   "metadata": {},
   "source": [
    "---"
   ]
  },
  {
   "cell_type": "markdown",
   "id": "36bb6baa-08ff-4433-8697-472fe0992ea6",
   "metadata": {},
   "source": [
    "To build intuition, let's now examine just the first 100 observations in the dataset. I chose this subsample because it exhibits different dynamics than the full sample of 1,078 observations. As we will see, larger samples typically push sample means and other things toward population means, and smaller samples can contain a lot of noise and other things.  \n",
    "\n",
    "First step: the visualization:"
   ]
  },
  {
   "cell_type": "code",
   "execution_count": null,
   "id": "e72e8fe9-697f-435c-919d-38f7c2ac8ec6",
   "metadata": {},
   "outputs": [],
   "source": [
    "pheights100 = subset(pheights, num <= 100)\n",
    "plot(pheights100$father, pheights100$son,\n",
    "     main = \"Pearson height dataset n = 100\",\n",
    "     xlab = \"Height of the father in inches\",\n",
    "     ylab = \"Height of the son in inches\")"
   ]
  },
  {
   "cell_type": "markdown",
   "id": "80a038e2-5a4f-487a-a2dd-46105fb51a9a",
   "metadata": {},
   "source": [
    "It definitely doesn't look the same, does it? Describe what you see."
   ]
  },
  {
   "cell_type": "markdown",
   "id": "4d3ebe05-48cb-4c3a-882c-db610fff661b",
   "metadata": {},
   "source": []
  },
  {
   "cell_type": "markdown",
   "id": "8f542a17-705d-4427-993f-e4fd4eca1b3b",
   "metadata": {},
   "source": [
    "Now let's calculate the correlation coefficient:"
   ]
  },
  {
   "cell_type": "code",
   "execution_count": null,
   "id": "58a0968e-7c5f-474f-83bd-fdb4e333a88e",
   "metadata": {},
   "outputs": [],
   "source": [
    "r100 = cor(pheights100$father, pheights100$son,\n",
    "           method = \"pearson\",\n",
    "           use = \"complete.obs\"\n",
    "           )\n",
    "r100"
   ]
  },
  {
   "cell_type": "markdown",
   "id": "a22a4e6c-845e-475e-a18d-f2b86eae2347",
   "metadata": {},
   "source": [
    "What we see in the plot, namely less of a clear positive relationship, is confirmed by the lower $r$. "
   ]
  },
  {
   "cell_type": "markdown",
   "id": "9c1fc503-4bc7-4559-bc17-4df9adcd8013",
   "metadata": {},
   "source": [
    "<div style=\"text-align: right\"> <span style=\"font-family:Papyrus; \">And they lived happily ever after. The End.</span></div>"
   ]
  },
  {
   "cell_type": "markdown",
   "id": "f607970b-66c2-4914-91e8-0ef0e356ae43",
   "metadata": {},
   "source": []
  }
 ],
 "metadata": {
  "kernelspec": {
   "display_name": "R",
   "language": "R",
   "name": "ir"
  },
  "language_info": {
   "codemirror_mode": "r",
   "file_extension": ".r",
   "mimetype": "text/x-r-source",
   "name": "R",
   "pygments_lexer": "r",
   "version": "4.3.2"
  }
 },
 "nbformat": 4,
 "nbformat_minor": 5
}

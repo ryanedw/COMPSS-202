{
 "cells": [
  {
   "cell_type": "markdown",
   "id": "c4943e00-491f-41d4-af95-91fd1238f12d",
   "metadata": {},
   "source": [
    "<img src=\"https://raw.githubusercontent.com/ryanedw/COMPSS-202/main/Images/UCB-macss.jpg\" width=\"120\" align=\"right\"/>\n",
    "<h1>COMPSS 202 Class 02</h1>"
   ]
  },
  {
   "cell_type": "markdown",
   "id": "4c4cfe46-7f35-4fcf-88ba-49f79a894527",
   "metadata": {},
   "source": [
    "<h2>Location and Spread</h2>\n",
    "\n",
    "Inspired by [SticiGui Chapter 4](https://www.stat.berkeley.edu/~stark/SticiGui/Text/location.htm)"
   ]
  },
  {
   "cell_type": "markdown",
   "id": "e404f27b-8746-4e09-8444-7fddf7722cf5",
   "metadata": {},
   "source": [
    "\n",
    "<h3>Learning objectives:</h3>\n",
    "\n",
    "<ol style=\"margin-top: 0; margin-bottom: 0;\">\n",
    "  <li>The mean is what most of us know as the average\n",
    "  </li>\n",
    "  <li>The median is the middle measure, a.k.a. the 50th percentile\n",
    "    <ul style=\"margin-top: 0; margin-bottom: 0;\">\n",
    "      <li>It can be the same as the mean\n",
    "      </li>\n",
    "      <li>Or if the distibution has a long right or left tail, it will be different\n",
    "      </li>\n",
    "    </ul>\n",
    "  </li>\n",
    "  <li>The mode is the highest peak of the distribution\n",
    "   <ul style=\"margin-top: 0; margin-bottom: 0;\">\n",
    "      <li>Like the median, it can be above, the same as, or below the mean\n",
    "      </li>\n",
    "      <li>A distribution can have more than one peak, or flat without any peaks\n",
    "      </li>\n",
    "    </ul>\n",
    "   </li>\n",
    "    <li>\n",
    "        <a href=#section2>The standard deviation is a common, useful measure of variation around the mean</a>\n",
    "    </li>\n",
    "</ol>"
   ]
  },
  {
   "cell_type": "markdown",
   "id": "33ef74b7-c664-4bf9-8871-6f0ff98cfd8d",
   "metadata": {},
   "source": [
    "To begin, please run the cells below to load up the libraries necessary to access data in Google Sheets. Best practices include running the cells in order."
   ]
  },
  {
   "cell_type": "code",
   "execution_count": null,
   "id": "635104b1-d28e-480d-aadf-42c62360f559",
   "metadata": {},
   "outputs": [],
   "source": [
    "install.packages(\"googlesheets4\")\n",
    "library(googlesheets4)\n",
    "gs4_deauth()"
   ]
  },
  {
   "cell_type": "markdown",
   "id": "7d899eea-7845-44c5-8252-48b194742f26",
   "metadata": {},
   "source": [
    "<h2>1. Looking at distributions</h2>"
   ]
  },
  {
   "cell_type": "markdown",
   "id": "dc35951c-05e9-4899-9603-60af44628a40",
   "metadata": {},
   "source": [
    "A good place to start is by using the best statistical tool we have: your eyes.\n",
    "\n",
    "Here are data from 4,963 observations of people measured in wave 4 of the [National Longitudinal Study of Adolescent to Adult Health (Add Health)](https://addhealth.cpc.unc.edu/), which is also viewable in Google Sheets in [addhealth_height_weight_bmi.sheets](https://docs.google.com/spreadsheets/d/1j7vrQ-wxB8HJFFWurUt9Ywfgbh_JX1S2IK4wgXFkHCQ/edit?usp=sharing). This extract includes measures of \"sex\" (which probably is gender identity mashed into a binary metric), and self-reports and objective measures of height, weight, and body mass index (BMI), which is kilograms of weight divided by the square of meters of height.\n",
    "\n",
    "These measures are collected in wave 4 of the Add Health panel study. Wave 4 was mostly completed in 2008, which is when respondents, born between 1977 and 1982, were between 26 and 31 years old. Add Health includes both men and women, and later waves and modules also explored more modern measures of gender identity.\n",
    "\n",
    "Objective height was originally measured in tenths of centimeters, which I converted to inches with a scaling factor of $0.393701$. Self-reported or subjective height `r4height` was recorded in feet and inches, which I converted to inches."
   ]
  },
  {
   "cell_type": "code",
   "execution_count": null,
   "id": "74fe2ad6-7000-455e-88e9-175e715a5848",
   "metadata": {},
   "outputs": [],
   "source": [
    "sheet_url0 = \"https://docs.google.com/spreadsheets/d/1j7vrQ-wxB8HJFFWurUt9Ywfgbh_JX1S2IK4wgXFkHCQ/edit?usp=sharing\"\n",
    "\n",
    "ah_bmi <- read_sheet(sheet_url0,\n",
    "                     range = \"A1:I4964\")"
   ]
  },
  {
   "cell_type": "code",
   "execution_count": null,
   "id": "cddf40d0-89a2-4b51-9d31-fe240dc87c45",
   "metadata": {},
   "outputs": [],
   "source": [
    "head(ah_bmi)"
   ]
  },
  {
   "cell_type": "markdown",
   "id": "d44cbe0c-4d4d-4987-a8c0-1a312632f748",
   "metadata": {},
   "source": [
    "Let's plot a histogram of objective height, which is the `r4heightbio` column inside the data frame `ah_bmi`. We reference a column with `$`. The built-in `hist()` function works perfectly well and is parsimonious.\n",
    "\n",
    "(The cool kids use `ggplot2`, I believe. But I find the syntax confusing and dense, not really worth the beauty of the picture in exchange for more opaque pedagogy!)"
   ]
  },
  {
   "cell_type": "code",
   "execution_count": null,
   "id": "661a9598-566a-482d-b1dc-d7ffd6587ef2",
   "metadata": {},
   "outputs": [],
   "source": [
    "hist(ah_bmi$r4heightbio,\n",
    "    main = \"Histogram of Add Health w4 heights in inches\",\n",
    "    xlab = \"Objective height in inches\"\n",
    "    )"
   ]
  },
  {
   "cell_type": "markdown",
   "id": "7b3cf2d9-3271-4c88-83a9-4b3d717c2571",
   "metadata": {},
   "source": [
    "As you can see, the distribution of height in the Add Health is not a perfect normal curve, probably because here we have mixed everyone together. Visually, the histogram looks like it has a longer right tail, and this might be because males are in the right tail. With the code below, we can look just at females, coded with `r4sex == 2` in the data:"
   ]
  },
  {
   "cell_type": "code",
   "execution_count": null,
   "id": "e0031c78-c2ee-460c-b181-be2011c38f4b",
   "metadata": {},
   "outputs": [],
   "source": [
    "hist(subset(ah_bmi,r4sex==2)$r4heightbio,\n",
    "    main = \"Histogram of Add Health w4 heights in inches, females\",\n",
    "    xlab = \"Objective height in inches\"\n",
    "    )"
   ]
  },
  {
   "cell_type": "markdown",
   "id": "e616e1eb-4ada-4d66-8e25-76e9faf599b9",
   "metadata": {},
   "source": [
    "The mode of this distribution is fairly easy to see: it is the highest peak, near 65 inches. The mean and median might be pretty similar to that, but we can also see some deviations from symmetry across the mode, evidence of a slightly longer right tail."
   ]
  },
  {
   "cell_type": "markdown",
   "id": "006f0832-6a42-4e34-865d-47ee135a6931",
   "metadata": {},
   "source": [
    "It can be helpful to overlay what's called a [kernel density estimate](https://en.wikipedia.org/wiki/Kernel_density_estimation), a smoothed line that shows an estimate of the probability density function likely to be responsible for the draws. Here is some code that does that:"
   ]
  },
  {
   "cell_type": "code",
   "execution_count": null,
   "id": "a0c0bca9-a5af-4c70-a010-7e0dcf322426",
   "metadata": {},
   "outputs": [],
   "source": [
    "hist(subset(ah_bmi,r4sex==2)$r4heightbio,\n",
    "    main = \"Histogram of Add Health w4 heights in inches, females\",\n",
    "    xlab = \"Objective height in inches\",\n",
    "    probability = TRUE,\n",
    "    ylim = c(0, 0.15)\n",
    "    )\n",
    "lines(density(subset(ah_bmi,r4sex==2)$r4heightbio), \n",
    "     lwd = 2)"
   ]
  },
  {
   "cell_type": "markdown",
   "id": "507b66f6-5f5e-4905-9bc1-c3024d15cb9b",
   "metadata": {},
   "source": [
    "There is still something funny near the mode, but the distribution looks fairly normal-ish. Let's now also look at the mean and median of this distribution:"
   ]
  },
  {
   "cell_type": "code",
   "execution_count": null,
   "id": "dfefef4b-1674-46a3-a1a7-982043d107ef",
   "metadata": {},
   "outputs": [],
   "source": [
    "mean(subset(ah_bmi,r4sex==2)$r4heightbio)\n",
    "median(subset(ah_bmi,r4sex==2)$r4heightbio)"
   ]
  },
  {
   "cell_type": "markdown",
   "id": "e0528ce2-00ba-401f-ad5b-00c4ea2424b6",
   "metadata": {},
   "source": [
    "These are almost identical."
   ]
  },
  {
   "cell_type": "markdown",
   "id": "4c8432fb-d9ab-4601-ba05-59d3a7c06514",
   "metadata": {},
   "source": [
    "---"
   ]
  },
  {
   "cell_type": "markdown",
   "id": "01db5b3f-4566-4a41-acc2-9d7d526cf4ac",
   "metadata": {},
   "source": [
    "Now let's examine objective body mass index, or BMI. "
   ]
  },
  {
   "cell_type": "code",
   "execution_count": null,
   "id": "a3b509b6-8668-4ad7-8f18-7aaa26bb09ee",
   "metadata": {},
   "outputs": [],
   "source": [
    "hist(subset(ah_bmi,r4sex==2)$r4bmibio,\n",
    "    main = \"Histogram of Add Health w4 BMI, females\",\n",
    "    xlab = \"Objective BMI in kg/m2\",\n",
    "    probability = TRUE\n",
    "    )\n",
    "lines(density(subset(ah_bmi,r4sex==2)$r4bmibio), \n",
    "     lwd = 2)"
   ]
  },
  {
   "cell_type": "markdown",
   "id": "67ef09e3-0bfa-4ab3-a4a0-cf68eb895eb0",
   "metadata": {},
   "source": [
    "Now there's a lognormal distribution, with a very clearly longer right tail.\n",
    "\n",
    "Lognormal distributions are common in social science. A good rule of thumb is that most things denominated in currency (like U.S. dollars) will be lognormally distributed. Here, BMI is also lognormal. Taking the natural log of the variable and then plotting the distribution is likely to produce a curve that looks more symmetric:"
   ]
  },
  {
   "cell_type": "code",
   "execution_count": null,
   "id": "b0c8501b-4590-4fd6-a882-a131ec9fc9f9",
   "metadata": {},
   "outputs": [],
   "source": [
    "ah_bmi$r4logbmibio = log(ah_bmi$r4bmibio)\n",
    "\n",
    "hist(subset(ah_bmi,r4sex==2)$r4logbmibio,\n",
    "    main = \"Histogram of Add Health w4 log BMI, females\",\n",
    "    xlab = \"Log objective BMI\",\n",
    "    probability = TRUE\n",
    "    )\n",
    "lines(density(subset(ah_bmi,r4sex==2)$r4logbmibio), \n",
    "     lwd = 2)"
   ]
  },
  {
   "cell_type": "markdown",
   "id": "d640b771-96b6-47e6-8ccb-da984eb45ab0",
   "metadata": {},
   "source": [
    "An improvement, but still a longer right tail."
   ]
  },
  {
   "cell_type": "markdown",
   "id": "6085dce8-5061-4e11-ade8-e79e4a75093d",
   "metadata": {},
   "source": [
    "---"
   ]
  },
  {
   "cell_type": "markdown",
   "id": "cf1dd6c5-020c-4db1-9a77-653c4870c80a",
   "metadata": {},
   "source": [
    "<h2>2. A close look at the standard deviation</h2><a name='section2'/>"
   ]
  },
  {
   "cell_type": "markdown",
   "id": "d1df46d4-0498-4445-90a4-8c9035e5aaed",
   "metadata": {},
   "source": [
    "The standard deviation is a very useful measure in mathematical or formal statistics. It's also a useful empirical measure, but its key characteristic is probably how analytically useful it is. It will show up again and again during our COMPSS 202 journey. "
   ]
  },
  {
   "cell_type": "markdown",
   "id": "b8e0bd93-d5d7-4f84-9f8e-79ddc9d95b99",
   "metadata": {},
   "source": [
    "Let's look at a very small, simple dataset. If you see an error message below, you could try running the code at the top of this notebook again."
   ]
  },
  {
   "cell_type": "code",
   "execution_count": null,
   "id": "c881dd2a-c149-45ab-8cb2-268fc983548c",
   "metadata": {},
   "outputs": [],
   "source": [
    "sheet_url = \"https://docs.google.com/spreadsheets/d/14Fms0CPsWj2eedSucH_WmUeOua3qkCOA8pMYfelAYWI/edit?usp=sharing\"\n",
    "\n",
    "# Here are fictional income data for members of the 2003 teen show \"The O.C.\" \n",
    "oc_income <- read_sheet(sheet_url,\n",
    "                        range = \"A1:F4\")\n",
    "\n",
    "# A transposed matrix is here\n",
    "oc_income_t <- read_sheet(sheet_url,\n",
    "                          range = \"A7:D12\")"
   ]
  },
  {
   "cell_type": "markdown",
   "id": "eda2904e-75f5-49f6-b3ca-d92a31ed5790",
   "metadata": {},
   "source": [
    "Because these matrices are small, we can just call them to see their contents. The first matrix has people (characters) along the columns and years along the rows:"
   ]
  },
  {
   "cell_type": "code",
   "execution_count": null,
   "id": "ec424212-8c95-44f2-94ec-d3d3841eae3a",
   "metadata": {},
   "outputs": [],
   "source": [
    "oc_income"
   ]
  },
  {
   "cell_type": "markdown",
   "id": "0cb394ff-c87e-4f13-b76d-4447baa2eb99",
   "metadata": {},
   "source": [
    "And the transposed matrix has years along the columns and people along the rows. Like any program worth its salt, __R__ can transpose things on its own. But I found it expeditious just to pull in the transposed data rather than fuss with changing labels of columns."
   ]
  },
  {
   "cell_type": "code",
   "execution_count": null,
   "id": "78a0b3d2-db31-46d1-a283-2e09807e2a7c",
   "metadata": {},
   "outputs": [],
   "source": [
    "oc_income_t"
   ]
  },
  {
   "cell_type": "markdown",
   "id": "11d69e99-380b-4175-bb16-05497c69ffa9",
   "metadata": {},
   "source": [
    "The sample size $n$ here is the number of people, or the number of rows here, equal to 5."
   ]
  },
  {
   "cell_type": "code",
   "execution_count": null,
   "id": "c759a918-6aa0-4814-99f9-e283f638ca0f",
   "metadata": {},
   "outputs": [],
   "source": [
    "n = nrow(oc_income_t)\n",
    "n"
   ]
  },
  {
   "cell_type": "markdown",
   "id": "0a48d5a2-10ec-426d-9dc7-a3bb56907a3f",
   "metadata": {},
   "source": [
    "The average income in a year across people is the sum divided by $n$:\n",
    "\n",
    "$$\n",
    "\\bar{x} = \\frac{1}{n} \\sum_{i=1}^n x_i\n",
    "$$\n",
    "\n",
    "Here is a long way to write it out by hand in __R__:"
   ]
  },
  {
   "cell_type": "code",
   "execution_count": null,
   "id": "2a6eeb0a-5e86-4367-ab31-01304e0596b4",
   "metadata": {},
   "outputs": [],
   "source": [
    "mean_2016 = (1/n) * (100 + 200 + 300 + 400 + 500)\n",
    "mean_2016"
   ]
  },
  {
   "cell_type": "markdown",
   "id": "b2e2bf03-a1c4-4df0-8a37-dfe19a964376",
   "metadata": {},
   "source": [
    "Here is another way, using the matrix elements. Notice the data type of the answer is data frame. "
   ]
  },
  {
   "cell_type": "code",
   "execution_count": null,
   "id": "096fdfc4-85ec-425a-a6d1-820a1613cb54",
   "metadata": {},
   "outputs": [],
   "source": [
    "mean_2017 = (oc_income_t[1,3] + \n",
    "             oc_income_t[2,3] +\n",
    "             oc_income_t[3,3] +\n",
    "             oc_income_t[4,3] +\n",
    "             oc_income_t[5,3]\n",
    "            )/n\n",
    "mean_2017"
   ]
  },
  {
   "cell_type": "markdown",
   "id": "fb9bccb3-0d4d-42f2-80a7-b40f598a5c9b",
   "metadata": {},
   "source": [
    "And another way for the 2017 data is by calling `sum()` on the column, which returns a numeric:"
   ]
  },
  {
   "cell_type": "code",
   "execution_count": null,
   "id": "3637b98a-5e5f-4096-ae36-f1cb0701cd72",
   "metadata": {},
   "outputs": [],
   "source": [
    "mean_2017 = (sum(oc_income_t$y2017)\n",
    "            )/n\n",
    "mean_2017\n",
    "class(mean_2017)"
   ]
  },
  {
   "cell_type": "markdown",
   "id": "1b63158a-35b8-4a4e-b63e-b92ee94b9649",
   "metadata": {},
   "source": [
    "We can also use the __R__ function `mean()` called on the column:"
   ]
  },
  {
   "cell_type": "code",
   "execution_count": null,
   "id": "a527fe33-2f6a-4606-92f3-a2420a2ba635",
   "metadata": {},
   "outputs": [],
   "source": [
    "mean_2018 = mean(oc_income_t$y2018)\n",
    "mean_2018"
   ]
  },
  {
   "cell_type": "markdown",
   "id": "3591d925-7b8d-4874-8252-8fc3007aa66f",
   "metadata": {},
   "source": [
    "---"
   ]
  },
  {
   "cell_type": "markdown",
   "id": "e72be5cd-edba-4f3f-a549-cb3cea40a1ff",
   "metadata": {},
   "source": [
    "The standard deviation is visually very similar to the mean, except that it is also the <i>square root</i> of the variance of the sample, which is the average sum of squared deviations from the mean:\n",
    "\n",
    "$$\n",
    "SD(x) = \\sqrt{\n",
    "\\frac{1}{n} \\sum_{i=1}^n \n",
    "\\left(\n",
    "x_i - \\bar{x}\n",
    "\\right)^2\n",
    "}\n",
    "$$"
   ]
  },
  {
   "cell_type": "markdown",
   "id": "9c54c6d1-d03f-4367-a09c-b9c57cba8e0c",
   "metadata": {},
   "source": [
    "As before, there are multiple roads to travel. For me, an easy batch of code uses __R__'s ability to subtract a numeric from a column element-by-element into a new (temporary) column:"
   ]
  },
  {
   "cell_type": "code",
   "execution_count": null,
   "id": "04d6bbdc-a200-4517-99a6-7c1e56c9ca18",
   "metadata": {},
   "outputs": [],
   "source": [
    "sd_2016 = ( (1/n) * (sum( (oc_income_t$y2016 - mean_2016)^2 ) ) )^0.5\n",
    "sd_2016"
   ]
  },
  {
   "cell_type": "markdown",
   "id": "0078e763-5395-4fbd-a327-440cda447852",
   "metadata": {},
   "source": [
    "---"
   ]
  },
  {
   "cell_type": "markdown",
   "id": "184cc331-fe4f-4678-859b-c92ae6e15109",
   "metadata": {},
   "source": [
    "<h2><div style=\"text-align: left\"> <span style=\"font-family:Papyrus; \" >And then there came GREAT CONFUSION across the land...</span></div></h2>"
   ]
  },
  {
   "cell_type": "markdown",
   "id": "28e62f2e-b7ef-4ebc-92e0-e19a6e1576a1",
   "metadata": {},
   "source": [
    "Unfortunately, while this is indeed the standard deviation of the sample, pretty much all statistical programs will produce something a little different, called the <b>sample standard deviation</b>, which is more handy for calculating confidence intervals and other things. \n",
    "\n",
    "Observe what happens when we call `sd()` in __R__:"
   ]
  },
  {
   "cell_type": "code",
   "execution_count": null,
   "id": "8c88623e-fd3a-4980-bc32-cc75f374a037",
   "metadata": {},
   "outputs": [],
   "source": [
    "sd(oc_income_t$y2016)"
   ]
  },
  {
   "cell_type": "markdown",
   "id": "61436052-c46e-4ffa-b5ea-747c170f061b",
   "metadata": {},
   "source": [
    "This is definitely different than what we found. Fortunately there is a quick fix, rescaling by the square root of the ratio of $n-1$ to $n$. This is because `sd()` gives us the sample standard deviation, which is the following measure:\n",
    "\n",
    "$$\n",
    "s(x) = \\sqrt{\n",
    "\\frac{1}{n-1} \\sum_{i=1}^n \n",
    "\\left(\n",
    "x_i - \\bar{x}\n",
    "\\right)^2\n",
    "}\n",
    "$$\n",
    "\n",
    "Comparing these two reveals that\n",
    "\n",
    "$$\n",
    "SD(x) = \\sqrt{ \\frac{n-1}{n} }\\times s(x)\n",
    "$$"
   ]
  },
  {
   "cell_type": "code",
   "execution_count": null,
   "id": "7f2d6fd6-9ca1-4290-b7cd-97ee9aede4b9",
   "metadata": {},
   "outputs": [],
   "source": [
    "sd(oc_income_t$y2016) * sqrt( (n-1)/n )\n",
    "\n",
    "sd_2016"
   ]
  },
  {
   "cell_type": "markdown",
   "id": "dbe83021-ebdb-4dc1-9f92-f14a92d10abd",
   "metadata": {},
   "source": [
    "This fix reproduces the standard deviation as we are using it."
   ]
  },
  {
   "cell_type": "markdown",
   "id": "9c1fc503-4bc7-4559-bc17-4df9adcd8013",
   "metadata": {},
   "source": [
    "<div style=\"text-align: right\"> <span style=\"font-family:Papyrus; \">And they lived happily ever after. The End.</span></div>"
   ]
  },
  {
   "cell_type": "markdown",
   "id": "f607970b-66c2-4914-91e8-0ef0e356ae43",
   "metadata": {},
   "source": []
  }
 ],
 "metadata": {
  "kernelspec": {
   "display_name": "R",
   "language": "R",
   "name": "ir"
  },
  "language_info": {
   "codemirror_mode": "r",
   "file_extension": ".r",
   "mimetype": "text/x-r-source",
   "name": "R",
   "pygments_lexer": "r",
   "version": "4.3.2"
  }
 },
 "nbformat": 4,
 "nbformat_minor": 5
}

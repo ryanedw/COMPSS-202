{
 "cells": [
  {
   "cell_type": "markdown",
   "id": "c4943e00-491f-41d4-af95-91fd1238f12d",
   "metadata": {},
   "source": [
    "<img src=\"https://raw.githubusercontent.com/ryanedw/COMPSS-202-SU24/main/Images/UCB-macss.jpg\" width=\"120\" align=\"right\"/>\n",
    "<h1>COMPSS 202 Class 06</h1>"
   ]
  },
  {
   "cell_type": "markdown",
   "id": "4c4cfe46-7f35-4fcf-88ba-49f79a894527",
   "metadata": {},
   "source": [
    "<h2>Regression</h2>\n",
    "\n",
    "Inspired by [SticiGui Chapter 9](https://www.stat.berkeley.edu/~stark/SticiGui/Text/regression.htm)"
   ]
  },
  {
   "cell_type": "markdown",
   "id": "9b77f72c-9bf6-4808-856d-7779e492179a",
   "metadata": {},
   "source": [
    "<h3>Learning objectives:</h3>\n",
    "\n",
    "1. We’d like a model that predicts $Y$ using $X$\n",
    "2. If the scatterplot looks like a football, then a line running through the averages is a good model. But the issue is how to choose the slope of the line\n",
    "3. The SD Line — with slope $SD(Y)/SD(X)$ — is a decent choice\n",
    "4. But it does a poor job predicting $Y$ within distant slices of $X$\n",
    "5. Instead, $\\beta = r \\times SD(Y)/SD(X) = Cov(X,Y)/Var(X)$ is better, a rescaling with $r$"
   ]
  },
  {
   "cell_type": "markdown",
   "id": "1d66ba97-e239-451a-b4cd-60a2606a04b9",
   "metadata": {},
   "source": [
    "To begin, please run the cells below to load up the libraries necessary to access data in Google Sheets. Best practices include running the cells in order."
   ]
  },
  {
   "cell_type": "code",
   "execution_count": null,
   "id": "635104b1-d28e-480d-aadf-42c62360f559",
   "metadata": {},
   "outputs": [],
   "source": [
    "install.packages(\"googlesheets4\")\n",
    "library(googlesheets4)\n",
    "gs4_deauth()"
   ]
  },
  {
   "cell_type": "markdown",
   "id": "9ccedfdd-5a84-4314-a8d5-9a43043a6bda",
   "metadata": {},
   "source": [
    "Here again are 1,078 observations of \"fathers\" and \"sons\" from a well-known training dataset based on the historical work of [Karl Pearson](https://en.wikipedia.org/wiki/Karl_Pearson). Please see the Class 03 notebook for more details."
   ]
  },
  {
   "cell_type": "markdown",
   "id": "0cf5429b-3119-4bc7-81f2-22f113bcfc61",
   "metadata": {},
   "source": [
    "Here is a direct link to the Google Sheets file loaded in the cell below: [Pearson height data.sheets](https://docs.google.com/spreadsheets/d/1TZhFGjT-uXd9ScucSYkT0MNARNDMCRCbAQgx4jac-X8/edit?usp=drive_link)"
   ]
  },
  {
   "cell_type": "code",
   "execution_count": null,
   "id": "c881dd2a-c149-45ab-8cb2-268fc983548c",
   "metadata": {},
   "outputs": [],
   "source": [
    "sheet_url = \"https://docs.google.com/spreadsheets/d/1TZhFGjT-uXd9ScucSYkT0MNARNDMCRCbAQgx4jac-X8/edit?usp=drive_link\"\n",
    "\n",
    "pheights <- read_sheet(sheet_url,\n",
    "                       range = \"B13:D1091\")"
   ]
  },
  {
   "cell_type": "markdown",
   "id": "b344247a-9db0-48b0-8f00-d256095ac560",
   "metadata": {},
   "source": [
    "Calling `head()` provides a useful quick look at the top of the dataset. Calling `dim()` helps us make sure we have the right dataset loaded up in the correct way."
   ]
  },
  {
   "cell_type": "code",
   "execution_count": null,
   "id": "ec424212-8c95-44f2-94ec-d3d3841eae3a",
   "metadata": {},
   "outputs": [],
   "source": [
    "head(pheights)\n",
    "dim(pheights)"
   ]
  },
  {
   "cell_type": "markdown",
   "id": "c3b66c01-7392-4f93-a53c-114122dc8d1d",
   "metadata": {},
   "source": [
    "Let's create a scatterplot. Here's a simple way to do it:"
   ]
  },
  {
   "cell_type": "code",
   "execution_count": null,
   "id": "4b38d10a-36ff-40c1-a755-4758c8d4aacd",
   "metadata": {},
   "outputs": [],
   "source": [
    "plot(pheights$father, pheights$son,\n",
    "     main = \"Pearson height dataset n = 1,078\",\n",
    "     xlab = \"Height of the father in inches\",\n",
    "     ylab = \"Height of the son in inches\")"
   ]
  },
  {
   "cell_type": "markdown",
   "id": "78aa4cba-006a-448b-9d01-6461cf2c3b21",
   "metadata": {},
   "source": [
    "Calculating the Pearson correlation cleanly seems to require passing a few options. `method = \"pearson\"` appears to be redundant here, but I'll include it anyway. __R__ and other statistical programs tend to get finicky about missing observations, and `use = \"complete.obs\"` seems to help."
   ]
  },
  {
   "cell_type": "code",
   "execution_count": null,
   "id": "be791854-d6dc-4439-9b1a-3852ee354124",
   "metadata": {},
   "outputs": [],
   "source": [
    "r = cor(pheights$father, pheights$son,\n",
    "        method = \"pearson\",\n",
    "        use = \"complete.obs\"\n",
    "       )\n",
    "r"
   ]
  },
  {
   "cell_type": "markdown",
   "id": "80a038e2-5a4f-487a-a2dd-46105fb51a9a",
   "metadata": {},
   "source": [
    "Let's also calculate the standard deviations of $Y$ and $X$. First, let's calculate the sample size $n$, with `nrow()`, and then we'll use `sd()` and apply the sample size correction:"
   ]
  },
  {
   "cell_type": "code",
   "execution_count": null,
   "id": "58a0968e-7c5f-474f-83bd-fdb4e333a88e",
   "metadata": {},
   "outputs": [],
   "source": [
    "n = nrow(pheights)\n",
    "n\n",
    "\n",
    "sdY = sd(pheights$son) * sqrt( (n-1)/n )\n",
    "sdY\n",
    "\n",
    "sdX = sd(pheights$father) * sqrt( (n-1)/n )\n",
    "sdX"
   ]
  },
  {
   "cell_type": "markdown",
   "id": "a22a4e6c-845e-475e-a18d-f2b86eae2347",
   "metadata": {},
   "source": [
    "The slope of the $SD$ line is just the ratio of $SD(Y)$ to $SD(X)$:"
   ]
  },
  {
   "cell_type": "code",
   "execution_count": null,
   "id": "52a012eb-0913-4534-9382-9c2c589af4eb",
   "metadata": {},
   "outputs": [],
   "source": [
    "sdlslope = sdY/sdX\n",
    "sdlslope"
   ]
  },
  {
   "cell_type": "markdown",
   "id": "a171b6da-f419-41dd-839a-37b22583582b",
   "metadata": {},
   "source": [
    "Does the $SD$ line predict $Y$ well or poorly? A visualization will take a little bit of fussing. The $SD$ line passes through the point of averages. Here are the averages:"
   ]
  },
  {
   "cell_type": "code",
   "execution_count": null,
   "id": "22197d95-dfc0-4034-b0a9-1d3f5cb97a26",
   "metadata": {},
   "outputs": [],
   "source": [
    "meanY = mean(pheights$son)\n",
    "meanY\n",
    "\n",
    "meanX = mean(pheights$father)\n",
    "meanX"
   ]
  },
  {
   "cell_type": "markdown",
   "id": "c237c791-6e0f-4e36-b598-6cef38881498",
   "metadata": {},
   "source": [
    "And now here's a trick to find the intercept term in the $SD$ line. We know it runs through $\\bar{X},\\bar{Y}$ and we know its slope, $b = SD(Y)/SD(X)$. Then:\n",
    "\n",
    "$$\n",
    "\\bar{Y} = a + b \\ \\bar{X}\n",
    "$$\n",
    "$$\n",
    "a = \\bar{Y} - b \\ \\bar{X}\n",
    "$$"
   ]
  },
  {
   "cell_type": "code",
   "execution_count": null,
   "id": "72cae560-882d-4cf9-acdd-f128e340a1d4",
   "metadata": {},
   "outputs": [],
   "source": [
    "sdlint = meanY - sdlslope * meanX\n",
    "sdlint"
   ]
  },
  {
   "cell_type": "markdown",
   "id": "9c1fc503-4bc7-4559-bc17-4df9adcd8013",
   "metadata": {},
   "source": [
    "Now we can predict values of the $SD$ line for any $X$. Below, I choose $60$ and $75$."
   ]
  },
  {
   "cell_type": "code",
   "execution_count": null,
   "id": "bd433f21-009d-4659-be77-c9e514198b89",
   "metadata": {},
   "outputs": [],
   "source": [
    "plot(pheights$father, pheights$son,\n",
    "     main = \"Pearson height dataset n = 1,078\",\n",
    "     xlab = \"Height of the father in inches\",\n",
    "     ylab = \"Height of the son in inches\")\n",
    "lines(c(60, 75), \n",
    "      c(sdlint + sdlslope*60, sdlint + sdlslope*75),\n",
    "      col = \"red\",\n",
    "      lwd = 2\n",
    "     )"
   ]
  },
  {
   "cell_type": "markdown",
   "id": "b40513ae-0ca7-4f4e-87e9-5c8c1a3a1eec",
   "metadata": {},
   "source": [
    "Visually speaking, the $SD$ line looks like it's doing a very nice job summarizing the football cloud, and it does. But within slices of $X$, especially at the extremes, the $SD$ line does a poor job predicting $Y$. At far right, the $SD$ line is much too high; at far left, it is much too low."
   ]
  },
  {
   "cell_type": "markdown",
   "id": "8c3538c8-25d3-437e-a8be-7e9cfc926d10",
   "metadata": {},
   "source": [
    "---"
   ]
  },
  {
   "cell_type": "markdown",
   "id": "ab2a2bbe-8cbc-4228-8853-83af86b0b84c",
   "metadata": {},
   "source": [
    "Instead, consider this adjustment to the slope of the $SD$ line, $b$:\n",
    "\n",
    "$$\n",
    "\\beta = r \\times b = r \\times \\frac{SD(Y)}{SD(X)} \n",
    "$$"
   ]
  },
  {
   "cell_type": "code",
   "execution_count": null,
   "id": "98c8aaed-fd50-47a3-a94d-52da02db742c",
   "metadata": {},
   "outputs": [],
   "source": [
    "betacoef = r * sdlslope\n",
    "betacoef"
   ]
  },
  {
   "cell_type": "markdown",
   "id": "d23fcc23-a919-4bd5-b676-1a563ddc0286",
   "metadata": {},
   "source": [
    "This $\\beta$ is the least squares slope coefficient, and it is also equal to the ratio of the covariance of $X$ and $Y$ to the variance of $X$:\n",
    "\n",
    "$$\n",
    "\\beta = \\frac{Cov(X,Y)}{Var(X)}\n",
    "$$"
   ]
  },
  {
   "cell_type": "code",
   "execution_count": null,
   "id": "219d9997-2545-49fe-a9f8-0ed6170aa7bb",
   "metadata": {},
   "outputs": [],
   "source": [
    "betacoef = cov(pheights$father,pheights$son)/var(pheights$father)\n",
    "betacoef"
   ]
  },
  {
   "cell_type": "markdown",
   "id": "1d3a3d0e-2f1c-49dc-a6d2-f8fa24ae71b5",
   "metadata": {},
   "source": [
    "As before, we can find the intercept $\\alpha$ using our knowledge of the slope and the point of averages:\n",
    "\n",
    "$$\n",
    "\\bar{Y} = \\alpha + \\beta \\ \\bar{X}\n",
    "$$\n",
    "$$\n",
    "\\alpha = \\bar{Y} - \\beta \\ \\bar{X}\n",
    "$$"
   ]
  },
  {
   "cell_type": "code",
   "execution_count": null,
   "id": "c7ccd54e-ab11-49d1-b017-fb9b07f6283d",
   "metadata": {},
   "outputs": [],
   "source": [
    "alphacoef = meanY - betacoef * meanX\n",
    "alphacoef"
   ]
  },
  {
   "cell_type": "markdown",
   "id": "752ddab6-f010-4ced-ad1d-10eb0899087c",
   "metadata": {},
   "source": [
    "Finally, here is the scatterplot again, now with the $SD$ line superimposed in red and the linear regression line superimposed in blue."
   ]
  },
  {
   "cell_type": "code",
   "execution_count": null,
   "id": "60cd0f32-f90d-4f67-bf64-603fa7e7cce6",
   "metadata": {},
   "outputs": [],
   "source": [
    "plot(pheights$father, pheights$son,\n",
    "     main = \"Pearson height dataset n = 1,078\",\n",
    "     xlab = \"Height of the father in inches\",\n",
    "     ylab = \"Height of the son in inches\")\n",
    "lines(c(60, 75), \n",
    "      c(sdlint + sdlslope*60, sdlint + sdlslope*75),\n",
    "      col = \"red\",\n",
    "      lwd = 2\n",
    "     )\n",
    "lines(c(60, 75), \n",
    "      c(alphacoef + betacoef*60, alphacoef + betacoef*75),\n",
    "      col = \"blue\",\n",
    "      lwd = 2\n",
    "     )"
   ]
  },
  {
   "cell_type": "markdown",
   "id": "5c69e306-81ef-4935-aa63-2534a3127148",
   "metadata": {},
   "source": [
    "Hold on to your hats. It turns out that we can also use `lm()` to estimate the blue line using <b>ordinary least squares</b>, which we will return to later in COMPSS 202.\n",
    "\n",
    "The syntax of `lm()` is as follows, where the funny part with the tilde (~) is the estimation equation, with a tilde instead of an equals sign and no coefficients formally listed:"
   ]
  },
  {
   "cell_type": "code",
   "execution_count": null,
   "id": "87da7388-e483-4a0e-b3e9-3cceb2d99beb",
   "metadata": {},
   "outputs": [],
   "source": [
    "reg1 <- lm(son ~ father,\n",
    "          data = pheights)\n",
    "summary(reg1)"
   ]
  },
  {
   "cell_type": "markdown",
   "id": "5d50326d-cec8-4a7c-a369-dab40f6aef97",
   "metadata": {},
   "source": [
    "In the output here, the `Estimate` for `(Intercept)` is the constant term, $\\alpha$, and the `Estimate` for `father` is $\\beta$, the ordinary least squares regression coefficient.\n",
    "\n",
    "Later in the course we will discuss what the `Std. Error` (standard error) and other columns mean. For now: the similarity between \"standard deviation\" and \"standard error\" is no accident."
   ]
  },
  {
   "cell_type": "markdown",
   "id": "5c54430b-7a2f-4784-96ed-c22cb626db9d",
   "metadata": {},
   "source": [
    "<div style=\"text-align: right\"> <span style=\"font-family:Papyrus; \">And they lived happily ever after. The End.</span></div>"
   ]
  },
  {
   "cell_type": "markdown",
   "id": "f607970b-66c2-4914-91e8-0ef0e356ae43",
   "metadata": {},
   "source": []
  }
 ],
 "metadata": {
  "kernelspec": {
   "display_name": "R",
   "language": "R",
   "name": "ir"
  },
  "language_info": {
   "codemirror_mode": "r",
   "file_extension": ".r",
   "mimetype": "text/x-r-source",
   "name": "R",
   "pygments_lexer": "r",
   "version": "4.3.2"
  }
 },
 "nbformat": 4,
 "nbformat_minor": 5
}

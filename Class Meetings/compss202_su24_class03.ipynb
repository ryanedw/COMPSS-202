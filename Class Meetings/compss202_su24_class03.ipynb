{
 "cells": [
  {
   "cell_type": "markdown",
   "id": "c4943e00-491f-41d4-af95-91fd1238f12d",
   "metadata": {},
   "source": [
    "<img src=\"https://raw.githubusercontent.com/ryanedw/COMPSS-202-SU24/main/Images/UCB-macss.jpg\" width=\"120\" align=\"right\"/>\n",
    "<h1>COMPSS 202 Class 03</h1>"
   ]
  },
  {
   "cell_type": "markdown",
   "id": "4c4cfe46-7f35-4fcf-88ba-49f79a894527",
   "metadata": {},
   "source": [
    "<h2>An $X$ and a $Y$ in a Scatterplot</h2>\n",
    "\n",
    "Inspired by [SticiGui Chapter 5](https://www.stat.berkeley.edu/~stark/SticiGui/Text/scatterplots.htm)"
   ]
  },
  {
   "cell_type": "markdown",
   "id": "9b77f72c-9bf6-4808-856d-7779e492179a",
   "metadata": {},
   "source": [
    "<h3>Learning objectives:</h3>\n",
    "\n",
    "<ol style=\"margin-top: 0; margin-bottom: 0;\">\n",
    "  <li>Scatterplots show a vertical $Y$ variable plotted vs. an $X$ variable and are are a very common visualization\n",
    "  </li>\n",
    "  <li>When someone plots $Y$ against $X$, their implicit hypothesis is that $X$ might be causing $Y = f(X)$, where $f(\\cdot)$ is some function\n",
    "      </li>\n",
    "      <li>When $Y$ varies differently across slices defined by $X$, that is called heteroscedasticity, and it complicates inference\n",
    "   <ul style=\"margin-top: 0; margin-bottom: 0;\">\n",
    "      <li>Variances in prices, incomes, and wealth (anything in dollars) usually increase with most $X$’s\n",
    "      </li>\n",
    "      <li>Variances in the <b>natural logarithm</b> of these usually do not\n",
    "      </li>\n",
    "    </ul>\n",
    "   </li>\n",
    "    <li>\n",
    "        Outliers are visually weird and numerically extreme points. They could be measurement error or real and may deserve thought \n",
    "    </li>\n",
    "</ol>"
   ]
  },
  {
   "cell_type": "markdown",
   "id": "1d66ba97-e239-451a-b4cd-60a2606a04b9",
   "metadata": {},
   "source": [
    "To begin, please run the cells below to load up the libraries necessary to access data in Google Sheets. Best practices include running the cells in order."
   ]
  },
  {
   "cell_type": "code",
   "execution_count": null,
   "id": "635104b1-d28e-480d-aadf-42c62360f559",
   "metadata": {},
   "outputs": [],
   "source": [
    "install.packages(\"googlesheets4\")\n",
    "library(googlesheets4)\n",
    "gs4_deauth()"
   ]
  },
  {
   "cell_type": "markdown",
   "id": "9ccedfdd-5a84-4314-a8d5-9a43043a6bda",
   "metadata": {},
   "source": [
    "Here are 1,078 observations of \"fathers\" and \"sons\" from a well-known training dataset based on the historical work of [Karl Pearson](https://en.wikipedia.org/wiki/Karl_Pearson), who adapted work by his mentor [Francis Galton](https://en.wikipedia.org/wiki/Francis_Galton). I've placed \"fathers\" and \"sons\" in quotation marks, because I believe the original samples included mothers and daughters as well, and some of these observations are actually mathematical translations of true observed relationships between mothers and daughters, and possibly between mothers and sons, and fathers and daughters.\n",
    "\n",
    "Who knows what they might have done with twins or triplets! Taken an integral or something?\n",
    "\n",
    "The other thing that bears mentioning here is that the historical of statistical thinking has many direct and indirect links to <b>eugenics</b>, the shameful, racist ideology and pseudo-science that grew in prominence in the post-Darwinian period of scientific thinking. This is one of the more direct links."
   ]
  },
  {
   "cell_type": "markdown",
   "id": "0ecfc0ff-6e8f-4988-80d2-36d3cee7c6f6",
   "metadata": {},
   "source": [
    "---"
   ]
  },
  {
   "cell_type": "markdown",
   "id": "294520c0-eb24-4ccb-8cba-cc182f346ea9",
   "metadata": {},
   "source": [
    "<h2>Eugenics is a sad chapter in human thinking</h2>\n",
    "\n",
    "There is much more to say about this, and the MaCSS curriculum in <i>Ethics, Societal Conflicts, and Data</i> will probably elaborate. In COMPSS 202, I think it's important to:\n",
    "* Recognize the connections between Galton, Pearson, and others like [Ronald Fisher](https://en.wikipedia.org/wiki/Ronald_Fisher) and the eugenics movement\n",
    "* See the difference between scientific beliefs in heredity and genes, which inform modern medicine and other things, versus repressive and unjust political thinking about \"desirable\" people, as opposed to traits\n",
    "* Celebrate the inherent value in all people and work to safeguard their rights\n",
    "\n",
    "Connections to eugenics are closer than we imagine they are. In the year 2024, we owe it to ourselves and future generations to understand these connections and to do better. For further reading, the [Wikipedia page on eugenics](https://en.wikipedia.org/wiki/Eugenics) offers a decent overview."
   ]
  },
  {
   "cell_type": "markdown",
   "id": "c6ebc100-d805-44c1-bfdc-945e26a6b3dc",
   "metadata": {},
   "source": [
    "---"
   ]
  },
  {
   "cell_type": "markdown",
   "id": "0c832653-aff2-41cb-9126-3e56c88e2ade",
   "metadata": {},
   "source": [
    "Despite ugly truths about where these measures and this thinking ultimately led, measurements within human families of characteristics like height, which we know is influenced by genes, or nature as well as nurture, are useful and visually powerful tools for training our statistical intuition and knowledge. \n",
    "\n",
    "These measures are also relatively rare. Some of our modern datasets include some measurements of parents or of children, but these also are often self-reported measures, usually from the perspective of the respondent."
   ]
  },
  {
   "cell_type": "markdown",
   "id": "0cf5429b-3119-4bc7-81f2-22f113bcfc61",
   "metadata": {},
   "source": [
    "Here is a direct link to the Google Sheets file loaded in the cell below: [Pearson height data.sheets](https://docs.google.com/spreadsheets/d/1TZhFGjT-uXd9ScucSYkT0MNARNDMCRCbAQgx4jac-X8/edit?usp=drive_link)"
   ]
  },
  {
   "cell_type": "code",
   "execution_count": null,
   "id": "c881dd2a-c149-45ab-8cb2-268fc983548c",
   "metadata": {},
   "outputs": [],
   "source": [
    "sheet_url = \"https://docs.google.com/spreadsheets/d/1TZhFGjT-uXd9ScucSYkT0MNARNDMCRCbAQgx4jac-X8/edit?usp=drive_link\"\n",
    "\n",
    "pheights <- read_sheet(sheet_url,\n",
    "                       range = \"B13:D1091\")"
   ]
  },
  {
   "cell_type": "markdown",
   "id": "b344247a-9db0-48b0-8f00-d256095ac560",
   "metadata": {},
   "source": [
    "Calling `head()` provides a useful quick look at the top of the dataset. These data are in tenths of inches, a nod to how weird the dataset is. Who would ever measure tenths of inches?! What exactly is a deci-inch?\n",
    "\n",
    "In order to enhance the visuals in a scatter plot, the data have been perturbed with small additions or subtractions. They may originally have been listed in whole inches or down to quarter inches."
   ]
  },
  {
   "cell_type": "code",
   "execution_count": null,
   "id": "ec424212-8c95-44f2-94ec-d3d3841eae3a",
   "metadata": {},
   "outputs": [],
   "source": [
    "head(pheights)"
   ]
  },
  {
   "cell_type": "markdown",
   "id": "64c08636-1a24-4e17-b866-e9e1f0d23a78",
   "metadata": {},
   "source": [
    "Let's create a scatterplot. \n",
    "\n",
    "Does it make more more sense for the son's height to be the $X$ or horizontol variable, or the $Y$ or vertical variable? Which variable do we think causes the other one?"
   ]
  },
  {
   "cell_type": "markdown",
   "id": "081ec595-c079-4ab3-882d-97afb7c3e0fc",
   "metadata": {},
   "source": []
  },
  {
   "cell_type": "markdown",
   "id": "003eff9d-e01f-4405-a888-78707a126512",
   "metadata": {},
   "source": [
    "A shrewd observer might say, \"Neither variable causes the other; genes cause them both.\" That is true, and in social science, we often set aside such details when discussing how an $X$ causes a $Y$. If $X$ were a binary measure of winning a lottery, the causality running from $X$ to an outcome variable seems a little clearer. In this case, what we mean by a person's height causing another height is that one person's height is a <b>proxy</b> for their genetic contribution.\n",
    "\n",
    "Because human reproduction requires an egg as well as sperm, there is clearly an <b>omitted</b> third variable we'd like to consider if we could: mother's height.\n",
    "\n",
    "But in addition to that, we would also like to measure <b>nutrition</b> and <b>sicknesses</b> during the child's life. We would probably like to know <b>birth order</b> and the gender of any siblings, because second-born sons tend to be shorter than their older brothers.\n",
    "\n",
    "These points can all be true, and they probably do not invalidate our looking at how son's height $Y$ varies with father's height $X$. (The only way in which they would is if some of these omitted variables were also systematically correlated with father's height, which would create what's called <i>omitted variable bias</i>. This is a topic for a more advanced class.)"
   ]
  },
  {
   "cell_type": "markdown",
   "id": "c3b66c01-7392-4f93-a53c-114122dc8d1d",
   "metadata": {},
   "source": [
    "Let's create a scatterplot. Here's a simple way to do it:"
   ]
  },
  {
   "cell_type": "code",
   "execution_count": null,
   "id": "4b38d10a-36ff-40c1-a755-4758c8d4aacd",
   "metadata": {},
   "outputs": [],
   "source": [
    "plot(pheights$father, pheights$son,\n",
    "     main = \"Pearson height dataset n = 1,078\",\n",
    "     xlab = \"Height of the father in inches\",\n",
    "     ylab = \"Height of the son in inches\")"
   ]
  },
  {
   "cell_type": "markdown",
   "id": "1069f112-3385-4a05-848b-2906b1d36b0b",
   "metadata": {},
   "source": [
    "It's true that there are some outliers here scattered around the periphery, but nothing that implies measurement problems. What else do you see? Does it look like the variation in $Y$ is roughly the same within vertical slices of the plot?"
   ]
  },
  {
   "cell_type": "markdown",
   "id": "5aa89b03-54ac-43c5-919c-cf05f29917d5",
   "metadata": {},
   "source": []
  },
  {
   "cell_type": "markdown",
   "id": "9c1fc503-4bc7-4559-bc17-4df9adcd8013",
   "metadata": {},
   "source": [
    "<div style=\"text-align: right\"> <span style=\"font-family:Papyrus; \">And they lived happily ever after. The End.</span></div>"
   ]
  },
  {
   "cell_type": "markdown",
   "id": "f607970b-66c2-4914-91e8-0ef0e356ae43",
   "metadata": {},
   "source": []
  }
 ],
 "metadata": {
  "kernelspec": {
   "display_name": "R",
   "language": "R",
   "name": "ir"
  },
  "language_info": {
   "codemirror_mode": "r",
   "file_extension": ".r",
   "mimetype": "text/x-r-source",
   "name": "R",
   "pygments_lexer": "r",
   "version": "4.3.2"
  }
 },
 "nbformat": 4,
 "nbformat_minor": 5
}

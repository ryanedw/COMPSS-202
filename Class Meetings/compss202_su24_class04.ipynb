{
 "cells": [
  {
   "cell_type": "markdown",
   "id": "c4943e00-491f-41d4-af95-91fd1238f12d",
   "metadata": {},
   "source": [
    "<img src=\"https://raw.githubusercontent.com/ryanedw/COMPSS-202/main/Images/UCB-macss.jpg\" width=\"120\" align=\"right\"/>\n",
    "<h1>COMPSS 202 Class 04</h1>"
   ]
  },
  {
   "cell_type": "markdown",
   "id": "4c4cfe46-7f35-4fcf-88ba-49f79a894527",
   "metadata": {},
   "source": [
    "<h2>Association</h2>\n",
    "\n",
    "Inspired by [SticiGui Chapter 6](https://www.stat.berkeley.edu/~stark/SticiGui/Text/association.htm)"
   ]
  },
  {
   "cell_type": "markdown",
   "id": "9b77f72c-9bf6-4808-856d-7779e492179a",
   "metadata": {},
   "source": [
    "<h3>Learning objectives:</h3>\n",
    "\n",
    "1. Visually finding an association in an $(X,Y)$ scatterplot is helpful\n",
    "2. Mathematically defining an association is the next step\n",
    "3. Along the way, we can connect the two of these by thinking about the mean and $SD$ of $Y$ across slices of $X$\n",
    "4. Association could reflect a causal relationship, but without more evidence we don’t know "
   ]
  },
  {
   "cell_type": "markdown",
   "id": "1d66ba97-e239-451a-b4cd-60a2606a04b9",
   "metadata": {},
   "source": [
    "To begin, please run the cells below to load up the libraries necessary to access data in Google Sheets. Best practices include running the cells in order."
   ]
  },
  {
   "cell_type": "code",
   "execution_count": null,
   "id": "635104b1-d28e-480d-aadf-42c62360f559",
   "metadata": {},
   "outputs": [],
   "source": [
    "install.packages(\"googlesheets4\")\n",
    "library(googlesheets4)\n",
    "gs4_deauth()"
   ]
  },
  {
   "cell_type": "markdown",
   "id": "9ccedfdd-5a84-4314-a8d5-9a43043a6bda",
   "metadata": {},
   "source": [
    "Here again are 1,078 observations of \"fathers\" and \"sons\" from a well-known training dataset based on the historical work of [Karl Pearson](https://en.wikipedia.org/wiki/Karl_Pearson). Please see the Class 03 notebook for more details."
   ]
  },
  {
   "cell_type": "markdown",
   "id": "0cf5429b-3119-4bc7-81f2-22f113bcfc61",
   "metadata": {},
   "source": [
    "Here is a direct link to the Google Sheets file loaded in the cell below: [Pearson height data.sheets](https://docs.google.com/spreadsheets/d/1TZhFGjT-uXd9ScucSYkT0MNARNDMCRCbAQgx4jac-X8/edit?usp=drive_link)"
   ]
  },
  {
   "cell_type": "code",
   "execution_count": null,
   "id": "c881dd2a-c149-45ab-8cb2-268fc983548c",
   "metadata": {},
   "outputs": [],
   "source": [
    "sheet_url = \"https://docs.google.com/spreadsheets/d/1TZhFGjT-uXd9ScucSYkT0MNARNDMCRCbAQgx4jac-X8/edit?usp=drive_link\"\n",
    "\n",
    "pheights <- read_sheet(sheet_url,\n",
    "                       range = \"B13:D1091\")"
   ]
  },
  {
   "cell_type": "markdown",
   "id": "b344247a-9db0-48b0-8f00-d256095ac560",
   "metadata": {},
   "source": [
    "Calling `head()` provides a useful quick look at the top of the dataset."
   ]
  },
  {
   "cell_type": "code",
   "execution_count": null,
   "id": "ec424212-8c95-44f2-94ec-d3d3841eae3a",
   "metadata": {},
   "outputs": [],
   "source": [
    "head(pheights)"
   ]
  },
  {
   "cell_type": "markdown",
   "id": "c3b66c01-7392-4f93-a53c-114122dc8d1d",
   "metadata": {},
   "source": [
    "Let's create a scatterplot. Here's a simple way to do it:"
   ]
  },
  {
   "cell_type": "code",
   "execution_count": null,
   "id": "4b38d10a-36ff-40c1-a755-4758c8d4aacd",
   "metadata": {},
   "outputs": [],
   "source": [
    "plot(pheights$father, pheights$son,\n",
    "     main = \"Pearson height dataset n = 1,078\",\n",
    "     xlab = \"Height of the father in inches\",\n",
    "     ylab = \"Height of the son in inches\")"
   ]
  },
  {
   "cell_type": "markdown",
   "id": "1069f112-3385-4a05-848b-2906b1d36b0b",
   "metadata": {},
   "source": [
    "Do you see an association here? Describe it."
   ]
  },
  {
   "cell_type": "markdown",
   "id": "d456fc3a-78da-4d8b-8665-3fefb1074c0f",
   "metadata": {},
   "source": []
  },
  {
   "cell_type": "markdown",
   "id": "91693cde-9fad-4730-848d-df93476fc65c",
   "metadata": {},
   "source": [
    "---"
   ]
  },
  {
   "cell_type": "markdown",
   "id": "158b6434-4efa-4a32-a167-cb9da51c7686",
   "metadata": {},
   "source": [
    "Although you will probably never do this in your work, the suggestion for learning association is to examine the mean and standard deviation in $Y$ across slices of $X$. As we did in the slides, let's examine 2-inch slices of $X$ here.\n",
    "\n",
    "The code below creates new data frames that are subsets of the dataset conditional on ranges of father's height ($X$)."
   ]
  },
  {
   "cell_type": "code",
   "execution_count": null,
   "id": "50a88a85-5cba-45b4-8862-b6e29e3b3129",
   "metadata": {},
   "outputs": [],
   "source": [
    "pheights_f6062 <- subset(pheights, father >= 60 & father < 62)\n",
    "\t\t\t\t\t       \t\t     \n",
    "pheights_f6264 <- subset(pheights, father >= 62 & father < 64)\n",
    "\t\t\t\t\t       \t\t     \n",
    "pheights_f6466 <- subset(pheights, father >= 64 & father < 66)\n",
    "\t\t\t\t\t       \t\t     \n",
    "pheights_f6668 <- subset(pheights, father >= 66 & father < 68)\n",
    "\n",
    "pheights_f6870 <- subset(pheights, father >= 68 & father < 70)\n",
    "\t\t\t\t\t       \t\t     \n",
    "pheights_f7072 <- subset(pheights, father >= 70 & father < 72)\n",
    "\t\t\t\t\t       \t\t     \n",
    "pheights_f7274 <- subset(pheights, father >= 72 & father < 74)\n",
    "\t\t\t\t\t       \t\t     \n",
    "pheights_f7476 <- subset(pheights, father >= 74 & father < 76)"
   ]
  },
  {
   "cell_type": "markdown",
   "id": "5e233e3b-b114-4265-b9a5-2c1f826cd4c2",
   "metadata": {},
   "source": [
    "Here is code that creates a new vector that contains the means of `son` within each slice:"
   ]
  },
  {
   "cell_type": "code",
   "execution_count": null,
   "id": "fef96166-730d-4ec2-8d65-70dd44009faa",
   "metadata": {},
   "outputs": [],
   "source": [
    "slices_m = c(mean(pheights_f6062$son),\n",
    "             mean(pheights_f6264$son),\n",
    "             mean(pheights_f6466$son),\n",
    "             mean(pheights_f6668$son),\n",
    "             mean(pheights_f6870$son),\n",
    "             mean(pheights_f7072$son),\n",
    "             mean(pheights_f7274$son),\n",
    "             mean(pheights_f7476$son)\n",
    "\t     )\n",
    "slices_m"
   ]
  },
  {
   "cell_type": "markdown",
   "id": "363686e4-9025-4d33-acfe-26a59cc8fa3e",
   "metadata": {},
   "source": [
    "And here is a simple vector of the midpoint of those $X$ ranges:"
   ]
  },
  {
   "cell_type": "code",
   "execution_count": null,
   "id": "540d644b-0562-4b76-a52d-dee21c1ce7a4",
   "metadata": {},
   "outputs": [],
   "source": [
    "ages = c(61, 63, 65, 67, 69, 71, 73, 75)"
   ]
  },
  {
   "cell_type": "code",
   "execution_count": null,
   "id": "2d6bb3b1-92aa-48a2-8e0b-b77e06728056",
   "metadata": {},
   "outputs": [],
   "source": [
    "plot(ages,slices_m,\n",
    "     main = \"Mean of son's height within 2-inch slices of father's height\",\n",
    "     xlab = \"Father's height midpoint\",\n",
    "     ylab = \"Average son's height\",\n",
    "     ylim = c(60, 80)\n",
    ")"
   ]
  },
  {
   "cell_type": "markdown",
   "id": "fdcd7a4b-aa71-4964-956a-38df1a6bbbfe",
   "metadata": {},
   "source": [
    "I set the $Y$-axis to have limits of $60$ and $80$, which is more like what the original scatterplot showed. As we will discuss, a linear regression is called a regression because it predicts $Y$ by its average within slices. That's a good method of prediction, but it also creates \"regression to the mean,\" which is a visual compression of the football cloud into a regression line that probably looks a little flatter than the football cloud.\n",
    "\n",
    "Now let's examine the same trend across slices in $X$ for the standard deviation of $Y$. Here's our first pass, using the sample standard deviation `sd()`:"
   ]
  },
  {
   "cell_type": "code",
   "execution_count": null,
   "id": "776deb40-e126-49ea-b937-537737d908d5",
   "metadata": {},
   "outputs": [],
   "source": [
    "slices_sd = c(sd(pheights_f6062$son),\n",
    "              sd(pheights_f6264$son),\n",
    "              sd(pheights_f6466$son),\n",
    "              sd(pheights_f6668$son),\n",
    "              sd(pheights_f6870$son),\n",
    "              sd(pheights_f7072$son),\n",
    "              sd(pheights_f7274$son),\n",
    "              sd(pheights_f7476$son)\n",
    "\t     )\n",
    "slices_sd"
   ]
  },
  {
   "cell_type": "markdown",
   "id": "5aa89b03-54ac-43c5-919c-cf05f29917d5",
   "metadata": {},
   "source": [
    "The sticky thing is that darn correction term. Here we go, with a new vector of $n$'s within each slice:"
   ]
  },
  {
   "cell_type": "code",
   "execution_count": null,
   "id": "ae52cd51-41f8-49bf-98b0-5a84d5644557",
   "metadata": {},
   "outputs": [],
   "source": [
    "slices_n = c(nrow(pheights_f6062),\n",
    "             nrow(pheights_f6264),\n",
    "             nrow(pheights_f6466),\n",
    "             nrow(pheights_f6668),\n",
    "             nrow(pheights_f6870),\n",
    "             nrow(pheights_f7072),\n",
    "             nrow(pheights_f7274),\n",
    "\t         nrow(pheights_f7476)\n",
    "\t     )\n",
    "slices_n\n",
    "\n",
    "# Here is the standard deviation of the sample, i.e. with the sample size correction\n",
    "slices_sd0 = slices_sd * ( (slices_n - 1)/slices_n )^0.5\n",
    "slices_sd0"
   ]
  },
  {
   "cell_type": "markdown",
   "id": "6e4d3d21-d989-466c-929c-fe905fba60f7",
   "metadata": {},
   "source": [
    "As you can see, the correction term shifts only things a little for the slices with decently large $n$, but for the sparsely populated slices, the shift is noticeable.  "
   ]
  },
  {
   "cell_type": "code",
   "execution_count": null,
   "id": "be791854-d6dc-4439-9b1a-3852ee354124",
   "metadata": {},
   "outputs": [],
   "source": [
    "plot(ages,slices_sd0,\n",
    "     main = \"SD of son's height within 2-inch slices of father's height\",\n",
    "     xlab = \"Father's height midpoint\",\n",
    "     ylab = \"Average son's height\",\n",
    "     ylim = c(0, 3.0)\n",
    "     )"
   ]
  },
  {
   "cell_type": "markdown",
   "id": "5cb390d4-6e56-48dd-a86d-4957abd59603",
   "metadata": {},
   "source": [
    "There's definitely a little wiggling here, especially in the rightmost slice where there are only 7 observations. If we set that one aside, it looks like $SD(Y)$ is fairly stable here, neither rising nor falling across slices of $X$. That's what we would like to see, otherwise it would suggest <b>heteroscedasticity</b>, which is just a fancy term for different variances in $Y$ within different subgroups of the data."
   ]
  },
  {
   "cell_type": "markdown",
   "id": "9c1fc503-4bc7-4559-bc17-4df9adcd8013",
   "metadata": {},
   "source": [
    "<div style=\"text-align: right\"> <span style=\"font-family:Papyrus; \">And they lived happily ever after. The End.</span></div>"
   ]
  },
  {
   "cell_type": "markdown",
   "id": "f607970b-66c2-4914-91e8-0ef0e356ae43",
   "metadata": {},
   "source": []
  }
 ],
 "metadata": {
  "kernelspec": {
   "display_name": "R",
   "language": "R",
   "name": "ir"
  },
  "language_info": {
   "codemirror_mode": "r",
   "file_extension": ".r",
   "mimetype": "text/x-r-source",
   "name": "R",
   "pygments_lexer": "r",
   "version": "4.3.2"
  }
 },
 "nbformat": 4,
 "nbformat_minor": 5
}

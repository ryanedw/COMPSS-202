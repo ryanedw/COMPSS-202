{
 "cells": [
  {
   "cell_type": "markdown",
   "id": "c4943e00-491f-41d4-af95-91fd1238f12d",
   "metadata": {},
   "source": [
    "<img src=\"https://raw.githubusercontent.com/ryanedw/COMPSS-202-SU24/main/Images/UCB-macss.jpg\" width=\"120\" align=\"right\"/>\n",
    "<h1>COMPSS 202 Class 14</h1>"
   ]
  },
  {
   "cell_type": "markdown",
   "id": "4c4cfe46-7f35-4fcf-88ba-49f79a894527",
   "metadata": {},
   "source": [
    "<h2>Hypothesis Testing</h2>\n",
    "\n",
    "Inspired by [SticiGui Chapter 27](https://www.stat.berkeley.edu/~stark/SticiGui/Text/testing.htm)"
   ]
  },
  {
   "cell_type": "markdown",
   "id": "28a59427-9aec-4441-8c10-9abc6c7705e8",
   "metadata": {},
   "source": [
    "Is a ballot measure likely to pass if an opinion poll with 1,000 randomly drawn respondents shows a proportion $\\hat{p} = 0.60$ of likely voters in favor of it? When people are asked about their height, do people say they are taller than they actually are? Are men more likely to overstate their height than women?\n",
    "\n",
    "These are all examples of hypotheses that we can test with samples."
   ]
  },
  {
   "cell_type": "markdown",
   "id": "b6b37d88-928d-4112-8585-5093030a45c0",
   "metadata": {},
   "source": [
    "\n",
    "<h3>Learning objectives:</h3>\n",
    "\n",
    "<ol style=\"margin-top: 0; margin-bottom: 0;\">\n",
    "  <li>Standard errors in estimators like $\\bar{X}$ imply confidence intervals\n",
    "      <ul style=\"margin-top: 0; margin-bottom: 0;\">\n",
    "      <li>Two SE’s on either side of $\\bar{X}$ picks up 95% of the distribution of the true population mean $\\mu$\n",
    "      </li>\n",
    "    </ul>\n",
    "  </li>\n",
    "  <li>Confidence intervals imply hypothesis tests:\n",
    "    <ul style=\"margin-top: 0; margin-bottom: 0;\">\n",
    "      <li>Think about what we care about, and reformulate it as a test that something equals zero, a proper <a href=\"https://en.wikipedia.org/wiki/Null_hypothesis\">null hypothesis</a>\n",
    "      </li>\n",
    "      <li>Measure the average and the standard error (SE) of that something\n",
    "      </li>\n",
    "      <li>If the average is more than 2 SE’s away from zero, reject the null hypothesis that the something is zero, otherwise, fail to reject the null hypothesis\n",
    "      </li>\n",
    "    </ul>\n",
    "  </li>\n",
    "  <li>We can make Type-1 and Type-2 errors. Good statistical power reduces the change of Type-2 errors, false negatives that don’t detect\n",
    "  </li>\n",
    "</ol>"
   ]
  },
  {
   "cell_type": "markdown",
   "id": "0b614788-dfd1-48e3-838b-d62c03852284",
   "metadata": {},
   "source": [
    "To begin, please run the cells below to load up the libraries necessary to access data in Google Sheets. Best practices include running the cells in order."
   ]
  },
  {
   "cell_type": "code",
   "execution_count": null,
   "id": "635104b1-d28e-480d-aadf-42c62360f559",
   "metadata": {},
   "outputs": [],
   "source": [
    "install.packages(\"googlesheets4\")\n",
    "library(googlesheets4)\n",
    "gs4_deauth()\n",
    "\n",
    "# Also load up the \"car\" package, for Companion to Applied Regression\n",
    "install.packages(\"car\")\n",
    "library(car)"
   ]
  },
  {
   "cell_type": "markdown",
   "id": "9df7af65-fee9-494a-9959-08a5bbf7fa60",
   "metadata": {},
   "source": [
    "The code below loads in data on gender and subjective and objective height for $n = 5,068$ respondents in wave 4 of the [National Longitudinal Study of Adolescent to Adult Health (Add Health)](https://addhealth.cpc.unc.edu/). Subjective or self-reported height in inches is measured by `r4height`, while objective height is `r4heightbio`.\n",
    "\n",
    "<b>To view the Sheets file, click here:</b> [addhealth_height_w4_nomiss.sheets](https://docs.google.com/spreadsheets/d/1uVN0_Wgz30nnng7Bt7H7xfYIqKL_g6W9ifLbF7wMK04/edit?usp=sharing)"
   ]
  },
  {
   "cell_type": "code",
   "execution_count": null,
   "id": "c881dd2a-c149-45ab-8cb2-268fc983548c",
   "metadata": {},
   "outputs": [],
   "source": [
    "sheet_url = \"https://docs.google.com/spreadsheets/d/1uVN0_Wgz30nnng7Bt7H7xfYIqKL_g6W9ifLbF7wMK04/edit?usp=sharing\"\n",
    "\n",
    "ah_heights <- read_sheet(sheet_url,\n",
    "                         range = \"A1:F5069\")"
   ]
  },
  {
   "cell_type": "markdown",
   "id": "40c39e9a-1a90-4e9f-912e-b7c5f57fc9c3",
   "metadata": {},
   "source": [
    "First let's quickly examine the top of the dataset, examine its dimensions, and assign $n$ to be the number of rows, which is the sample size."
   ]
  },
  {
   "cell_type": "code",
   "execution_count": null,
   "id": "ec424212-8c95-44f2-94ec-d3d3841eae3a",
   "metadata": {},
   "outputs": [],
   "source": [
    "head(ah_heights)\n",
    "dimensions = dim(ah_heights)\n",
    "n = dimensions[1]\n",
    "n"
   ]
  },
  {
   "cell_type": "markdown",
   "id": "56662f5d-b138-46df-9468-6b6d6169b959",
   "metadata": {},
   "source": [
    "As you can see, `diff` is already programmed as the difference between `r4height`, the subjective measure that is self-reported, and `r4heightbio`, the objective measure that is collected by the interviewer. If the difference were not already in the dataset, we could have created it this way:"
   ]
  },
  {
   "cell_type": "code",
   "execution_count": null,
   "id": "2768f37d-8db2-4d89-92ce-825b3238774b",
   "metadata": {},
   "outputs": [],
   "source": [
    "ah_heights$diff0 = ah_heights$r4height - ah_heights$r4heightbio\n",
    "head(ah_heights)"
   ]
  },
  {
   "cell_type": "markdown",
   "id": "2d22439a-bd22-4dee-b274-38042e05197c",
   "metadata": {},
   "source": [
    "---"
   ]
  },
  {
   "cell_type": "markdown",
   "id": "f616dcc1-f13e-4a22-8e36-b71503c6238f",
   "metadata": {},
   "source": [
    "<h2>1. Examining by hand</h2>"
   ]
  },
  {
   "cell_type": "markdown",
   "id": "ccf234bc-c773-4cab-9435-b507dbf97dc7",
   "metadata": {},
   "source": [
    "Suppose our null hypothesis is that there is no difference between self-reported and objective height, and thus the difference between them is zero. `diff = 0`. Here is the sample average of the difference:"
   ]
  },
  {
   "cell_type": "code",
   "execution_count": null,
   "id": "4bec7c28-ffd2-4228-be75-43481b20c9ec",
   "metadata": {},
   "outputs": [],
   "source": [
    "mean_diff = mean(ah_heights$diff)\n",
    "mean_diff\n",
    "\n",
    "mean_diff = mean(ah_heights$r4height) - mean(ah_heights$r4heightbio)\n",
    "mean_diff"
   ]
  },
  {
   "cell_type": "markdown",
   "id": "4e5510e7-1803-4075-b16f-55e4c03eeace",
   "metadata": {},
   "source": [
    "In the code above, we also see that the average difference also equals the difference in the averages, up to floating point rounding error anyway! This is generally true about the sample average and the expectation: they are distributive across addition and subtraction."
   ]
  },
  {
   "cell_type": "markdown",
   "id": "52cdfb96-8b1c-4d81-9b4c-8576b5f2469e",
   "metadata": {},
   "source": [
    "In words, our results show that the average difference between self-reported height and objective height in these data is 0.42 inch. On average, people overstate how tall they are by four tenths of an inch. \n",
    "\n",
    "$$\n",
    "\\bar{Y} = \\bar{X}^S - \\bar{X}^O = 0.42\n",
    "$$\n",
    "\n",
    "If the Add Health sample was constructed using random sampling, we know the sample average is an unbiased measure of the true population mean. But how certain are we about the point estimate of 0.42 inch? Is it significantly different from zero? To proceed, construct the <b>standard error</b> of the sample mean."
   ]
  },
  {
   "cell_type": "markdown",
   "id": "4ab4f0f6-ac58-4f42-8f75-a04daa48d892",
   "metadata": {},
   "source": [
    "The standard error of the mean of $Y$ equals the sample standard deviation of $Y$ divided by the square root of the sample size, $n$:\n",
    "\n",
    "$$\n",
    "SE \\left[ \n",
    "\\bar{Y}\n",
    "\\right]\n",
    "=\n",
    "\\frac{s}{\\sqrt{n}}\n",
    "$$\n",
    "where\n",
    "$$\n",
    "s = \\sqrt{\n",
    "\\frac{1}{n-1} \\sum_{i=1}^n \\left(\n",
    "Y_i - \\bar{Y}\n",
    "\\right)^2\n",
    "}\n",
    "$$"
   ]
  },
  {
   "cell_type": "code",
   "execution_count": null,
   "id": "3a4c0f5c-4ada-4ec8-873b-275d5499689f",
   "metadata": {},
   "outputs": [],
   "source": [
    "stderr_meandiff = sd(ah_heights$diff) / sqrt(n)\n",
    "stderr_meandiff\n",
    "\n",
    "stderr_meandiff = ( sum( (ah_heights$diff - mean_diff)^2 ) / (n-1) )^0.5 / sqrt(n)\n",
    "stderr_meandiff"
   ]
  },
  {
   "cell_type": "markdown",
   "id": "eac45b5d-73af-4b80-83d3-e53220879059",
   "metadata": {},
   "source": [
    "The first calculation method above uses `sd()`, the sample standard deviation routine. The second method writes out the sample standard deviation by hand, just to keep us honest. The two methods produce the same result for the $SE$. "
   ]
  },
  {
   "cell_type": "markdown",
   "id": "3bdb58b3-1f1c-4184-b756-268fd3e98230",
   "metadata": {},
   "source": [
    "Finally, a 95% confidence interval around the mean, $\\bar{X}$, is defined by roughly $\\pm 2 \\ SE$. Statistical programs will often use $\\pm 1.96 \\ SE$ in large enough samples, because $1.96$ is a critical value of [Student's $t$ distribution](https://en.wikipedia.org/wiki/Student%27s_t-distribution)."
   ]
  },
  {
   "cell_type": "code",
   "execution_count": null,
   "id": "17cae05f-2241-40fe-af53-55c5840dbd08",
   "metadata": {},
   "outputs": [],
   "source": [
    "mean_diff_conf = c(mean_diff - 2*stderr_meandiff, \n",
    "                   mean_diff + 2*stderr_meandiff)\n",
    "mean_diff_conf"
   ]
  },
  {
   "cell_type": "markdown",
   "id": "dbd53afe-36d5-4e46-b652-3e0fe80c7433",
   "metadata": {},
   "source": [
    "In words: the sample average of the difference between self-reported and objective height is 0.42 inches. This difference is statistically significantly different from zero at the 5% level, because zero lies outside of the 95% confidence interval defined by two standard errors on either side of the mean. The 95% confidence interval stretches roughly from 0.38 to 0.47."
   ]
  },
  {
   "cell_type": "markdown",
   "id": "1915c6d1-3256-4bd4-941c-08446b649007",
   "metadata": {},
   "source": [
    "<h2>2. Using ordinary least squares (OLS), the \"big ladder\"</h2>"
   ]
  },
  {
   "cell_type": "markdown",
   "id": "7bfd0217-8134-45ce-ba4c-bec87e471597",
   "metadata": {},
   "source": [
    "While it's useful to see the long-form math at least once in your life, most of the time you will probably want to cut to the chase and get on with the social science! It turns out that estimating simple equations with OLS, which you can do using the built-in `lm()` routine (for \"linear model\") in __R__, will return the answers to simple questions.\n",
    "\n",
    "Let's estimate this simple model:\n",
    "$$\n",
    "Y_i = \\alpha + \\epsilon_i\n",
    "$$\n",
    "where $Y_i$ is the difference between subjective and objective heights, $\\alpha$ is a constant term whose estimate will end up being the sample average $\\bar{Y}$, and $\\epsilon_i$ is a white-noise error with mean zero. \n",
    "\n",
    "To get __R__ to estimate this function, we have to pass it a vector of 1's as the lone $x$-variable, and then __R__ will understand what we want. The syntax for `lm()` requires the first element to be the linear estimation equation, with a tilde where the equals sign would go, followed by options like a reference to the data frame storing the variables in columns.\n",
    "\n",
    "A reasonable approach is to create an object like `reg1` and then pass it to `summary()` to examine results. A call to `confint()` produces a matrix with 95% confidence intervals around the `lm()` estimates."
   ]
  },
  {
   "cell_type": "code",
   "execution_count": null,
   "id": "78a0b3d2-db31-46d1-a283-2e09807e2a7c",
   "metadata": {},
   "outputs": [],
   "source": [
    "reg1 <- lm(diff ~ 1, data = ah_heights)\n",
    "summary(reg1)\n",
    "confint(reg1)"
   ]
  },
  {
   "cell_type": "markdown",
   "id": "90d5f778-593d-45d8-bb0e-cd6baca36105",
   "metadata": {},
   "source": [
    "As you can see above, OLS returns an estimate of the constant term $\\alpha$, called \"(Intercept)\", and its standard error. These are the same values we saw when calculating the sample average and its standard error by hand."
   ]
  },
  {
   "cell_type": "markdown",
   "id": "e6a84ab7-93e4-4007-a00e-09d4fc0b9cbb",
   "metadata": {},
   "source": [
    "---"
   ]
  },
  {
   "cell_type": "markdown",
   "id": "6aa890ba-9ca4-48a3-a8cb-d9f242c94d17",
   "metadata": {},
   "source": [
    "<h2>3. Do men and women respond differently?</h2>"
   ]
  },
  {
   "cell_type": "markdown",
   "id": "8b6611cc-2c97-40e3-8daa-b62b9bd95537",
   "metadata": {},
   "source": [
    "Ordinary least squares also allows us to examine differences in $y$-variables across subgroups very quickly. Based on the [Data Collection Instrument and User Guide](https://adatawinter.site.wesleyan.edu/files/2017/08/AddHealth-Wave_1_Questionnaire-and-Codebook.pdf), I think Add Health probably began with \"biological sex\" as recorded for the person by the school, which likely drew from a parental report, and then asked interviewers to verify the measure by asking the respondent as subjectively needed. To what extent the variable measures gender versus sex seems like an open question. It appears that [NIH funded a companion study in 2017](https://addhealth.cpc.unc.edu/news/add-health-deputy-director-to-co-lead-new-nih-study/) to look at gender identity over the life course more closely."
   ]
  },
  {
   "cell_type": "markdown",
   "id": "12f2d751-029f-489f-9840-99d10f9cd9d4",
   "metadata": {},
   "source": [
    "The variable that we have indexes males as `r4sex == 1` and females as `r4sex == 2`. One actually could just use this variable in a linear model, but that would change the interpretation of the constant term $\\alpha$. A better approach is to code a binary 0/1 indicator variable that measures group identity. Here, we can do that quickly by subtracting 1 from the \"sex\" variable:"
   ]
  },
  {
   "cell_type": "code",
   "execution_count": null,
   "id": "08e3c28d-d9ff-4bbb-9c6d-4e9188706195",
   "metadata": {},
   "outputs": [],
   "source": [
    "ah_heights$female = (ah_heights$r4sex - 1)"
   ]
  },
  {
   "cell_type": "markdown",
   "id": "dd849ac2-6e56-4109-9d8e-f3ae4f4ec9d3",
   "metadata": {},
   "source": [
    "With this new `female` variable, we can run a simple OLS model that tests for differences between females and the reference group:\n",
    "\n",
    "$$\n",
    "Y_i = \\alpha' + \\beta \\ female_i + \\epsilon_i\n",
    "$$\n",
    "\n",
    "In these Add Health data, although one suspects that there probably is a spectrum of gender identity, the data are coded so that everyone who is not \"female\" is \"male,\" and so the constant term $\\alpha'$ tells us the average of $y$ among males. Generally speaking, the constant will measure the average among all groups that do not have an indicator variable of their own."
   ]
  },
  {
   "cell_type": "code",
   "execution_count": null,
   "id": "1890f300-b60d-4d90-9fc2-c03967e37ac2",
   "metadata": {},
   "outputs": [],
   "source": [
    "reg2 <- lm(diff ~ female, data = ah_heights)\n",
    "summary(reg2)\n",
    "confint(reg2)"
   ]
  },
  {
   "cell_type": "markdown",
   "id": "b6bda588-cc48-4200-a047-aa2d90af6ab8",
   "metadata": {},
   "source": [
    "In words: males report being taller by about $\\hat{\\alpha}' = 0.7$ inch on average, and reported heights are $\\hat{\\beta} = -0.5$ inch more accurate on average among females. Both of those estimates are statistically significantly different from zero, because they lie (much) more than 2 of their standard errors away from 0."
   ]
  },
  {
   "cell_type": "markdown",
   "id": "11a60ab6-6848-412e-97f1-bed8d587f10f",
   "metadata": {},
   "source": [
    "<h2>4. Aligning the model with your question</h2>"
   ]
  },
  {
   "cell_type": "markdown",
   "id": "3b92c415-ac96-4641-8f47-95ba127f22d8",
   "metadata": {},
   "source": [
    "In the example above, I found myself wanting to say something about the statistical significance of \"excess\" height reported by females. We recovered $\\hat{\\alpha}'$ and its standard error, which tells us about the average male response. But $\\hat{\\beta}$ tells us the average difference between men and women, not the average female response.\n",
    "\n",
    "If we want to know about the average female response, we have some options:"
   ]
  },
  {
   "cell_type": "markdown",
   "id": "920e5603-477f-4287-97e4-0dd405c1ccbc",
   "metadata": {},
   "source": [
    "<h3>4.1. Ask R to calculate the standard error of $\\hat{\\alpha}' + \\beta$</h3>"
   ]
  },
  {
   "cell_type": "markdown",
   "id": "32f4a4c2-aef6-41d8-a5f8-2e801e264167",
   "metadata": {},
   "source": [
    "The first line of code below calculates the sum of the two parameters from the `coef` column in the regression results that `lm()` created and placed in `reg2`. The second line of code asks __R__ to test whether that sum equals zero, and to do so, __R__ calculates the standard error of the sum (but doesn't report it). "
   ]
  },
  {
   "cell_type": "code",
   "execution_count": null,
   "id": "1d51a6a7-2ed9-42cc-a2b5-b7aa6dd01ee1",
   "metadata": {},
   "outputs": [],
   "source": [
    "alpha_plus_beta <- reg2$coef[1] + reg2$coef[2]\n",
    "alpha_plus_beta\n",
    "\n",
    "linearHypothesis(reg2, \"(Intercept) + female = 0\")"
   ]
  },
  {
   "cell_type": "markdown",
   "id": "da46fb5b-7830-4373-b05e-b1fcf4f5b08f",
   "metadata": {},
   "source": [
    "The results aren't exactly easy to read. The key parts are the __F__ and the __Pr(>F)__ columns. An $F$-statistic is kind of like a generalized $t$-statistic with units similar to the square of the $t$-statistic. Here, the $F$-stat is large, and thus the probability that the true value of $\\alpha' + \\beta = 0$ is very small. Thus we reject the null hypothesis that female self-reports of height are no different from objective height. Rather, they are about $\\hat{\\alpha}' + \\hat{\\beta} = 0.2$ inch taller, and that is statistically significantly different from zero."
   ]
  },
  {
   "cell_type": "markdown",
   "id": "6d3b6ba7-ad31-4328-bced-5dc2f27d4dd3",
   "metadata": {},
   "source": [
    "---"
   ]
  },
  {
   "cell_type": "markdown",
   "id": "7e4959e6-ac45-4af0-9b67-b757f97b1f53",
   "metadata": {},
   "source": [
    "<h3>4.2. Run the simple model on just one group</h3>"
   ]
  },
  {
   "cell_type": "markdown",
   "id": "a10a1b02-ea05-4e91-b65e-73d3fd23ec2e",
   "metadata": {},
   "source": [
    "Another approach is to omit males from the data and estimate the simple model with no group indicator:\n",
    "\n",
    "$$\n",
    "Y^f_i = \\alpha^f + \\epsilon^f_i\n",
    "$$\n",
    "\n",
    "where I'm using the $f$ superscript to show that these estimates will be relevant only for the female subgroup. In __R__, we can estimate this model by passing a `subset()` of the dataframe with the `female == 1` conditional. "
   ]
  },
  {
   "cell_type": "code",
   "execution_count": null,
   "id": "f7cf1329-a6df-4d2e-9b23-4ee0022d35d3",
   "metadata": {},
   "outputs": [],
   "source": [
    "reg3f <- lm(diff ~ 1, \n",
    "            data = subset(ah_heights, female == 1)\n",
    "            )\n",
    "summary(reg3f)\n",
    "confint(reg3f)"
   ]
  },
  {
   "cell_type": "markdown",
   "id": "9929fedd-c200-402f-9339-a6c33573f60d",
   "metadata": {},
   "source": [
    "In words, we see the same story we just saw earlier: women state they are about $\\hat{\\alpha}^f = 0.2$ inch taller than they actually are, and that is statistically significantly different from 0 because it is about 7 times as large as its standard error."
   ]
  },
  {
   "cell_type": "markdown",
   "id": "ed4870e3-7ffb-4534-b75e-e8286c0ff0c6",
   "metadata": {},
   "source": [
    "For kicks, here is a way to recover the estimate for just males, using similar code:"
   ]
  },
  {
   "cell_type": "code",
   "execution_count": null,
   "id": "d8db0e2a-fba1-4d88-8105-c3df01609c88",
   "metadata": {},
   "outputs": [],
   "source": [
    "reg3m <- lm(diff ~ 1, \n",
    "            data = subset(ah_heights, female == 0)\n",
    "            )\n",
    "summary(reg3m)\n",
    "confint(reg3m)"
   ]
  },
  {
   "cell_type": "markdown",
   "id": "e4b152ae-a109-4252-81d8-5da536a9a89d",
   "metadata": {},
   "source": [
    "<h3>4.3. Or redefine the group indicator</h3>"
   ]
  },
  {
   "cell_type": "markdown",
   "id": "b8257083-5d11-417a-9841-eb40ab4d0da3",
   "metadata": {},
   "source": [
    "One could also define an indicator variable `male` and run OLS using that instead of `female`. Here is one way to set that up, with the absolute value function `abs()`:"
   ]
  },
  {
   "cell_type": "code",
   "execution_count": null,
   "id": "bc89b4cc-4254-40c7-a98b-d367fe84817a",
   "metadata": {},
   "outputs": [],
   "source": [
    "ah_heights$male = abs(ah_heights$female - 1)\n",
    "head(ah_heights)"
   ]
  },
  {
   "cell_type": "code",
   "execution_count": null,
   "id": "ed037c47-3602-4a7f-a89f-84787e9d5f15",
   "metadata": {},
   "outputs": [],
   "source": [
    "reg4 <- lm(diff ~ male, data = ah_heights)\n",
    "summary(reg4)\n",
    "confint(reg4)"
   ]
  },
  {
   "cell_type": "markdown",
   "id": "e05e06fa-9228-47c6-a56f-438ad8d3ce90",
   "metadata": {},
   "source": [
    "Voila: mirror-image results.\n",
    "\n",
    "And just for more kicks, note what happens when we try to include BOTH `female` and `male` in a linear model. If there were observations that did not have either `female == 1` or `male == 1` in the data, this would not be a problem, and the constant term would show the average $y$-variable for that other group that was neither male nor female. But here, the constant term is not well defined if we have already included indicators for all gender groups in the data.\n",
    "\n",
    "To solve this problem, __R__ appears to drop the last indicator listed."
   ]
  },
  {
   "cell_type": "code",
   "execution_count": null,
   "id": "29a477a5-69fd-4f81-8469-2fa9220308b9",
   "metadata": {},
   "outputs": [],
   "source": [
    "reg5 <- lm(diff ~ male + female, data = ah_heights)\n",
    "summary(reg5)\n",
    "confint(reg5)"
   ]
  },
  {
   "cell_type": "markdown",
   "id": "0c4fe4ee-2048-4de6-8439-bea52b946540",
   "metadata": {},
   "source": [
    "An option (literally) is to ask `lm()` to suppress the constant term, like this:"
   ]
  },
  {
   "cell_type": "code",
   "execution_count": null,
   "id": "b1d6468f-e616-4405-81ce-8b1e20672a7d",
   "metadata": {},
   "outputs": [],
   "source": [
    "reg6 <- lm(diff ~ 0 + male + female, data = ah_heights)\n",
    "summary(reg6)\n",
    "confint(reg6)"
   ]
  },
  {
   "cell_type": "markdown",
   "id": "f660febb-e994-47fe-92af-ec9c1e493d0a",
   "metadata": {},
   "source": [
    "As you can see, this model gives us part of what we want, but perhaps not all. For example, if we wanted to state something about the difference between men and women here, we would need to use `linearHypothesis()` again.\n",
    "\n",
    "There will likely be something you want to understand that will require a little more work, regardless of how you set up the first model. C'est la statistiques."
   ]
  },
  {
   "cell_type": "markdown",
   "id": "9c1fc503-4bc7-4559-bc17-4df9adcd8013",
   "metadata": {},
   "source": [
    "<div style=\"text-align: right\"> <span style=\"font-family:Papyrus; \">And they lived happily ever after. The End.</span></div>"
   ]
  },
  {
   "cell_type": "markdown",
   "id": "f607970b-66c2-4914-91e8-0ef0e356ae43",
   "metadata": {},
   "source": []
  }
 ],
 "metadata": {
  "kernelspec": {
   "display_name": "R",
   "language": "R",
   "name": "ir"
  },
  "language_info": {
   "codemirror_mode": "r",
   "file_extension": ".r",
   "mimetype": "text/x-r-source",
   "name": "R",
   "pygments_lexer": "r",
   "version": "4.3.2"
  }
 },
 "nbformat": 4,
 "nbformat_minor": 5
}

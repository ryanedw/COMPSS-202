{
 "cells": [
  {
   "cell_type": "markdown",
   "id": "c4943e00-491f-41d4-af95-91fd1238f12d",
   "metadata": {},
   "source": [
    "<img src=\"https://raw.githubusercontent.com/ryanedw/COMPSS-202-SU24/main/Images/UCB-macss.jpg\" width=\"120\" align=\"right\"/>\n",
    "<h1>COMPSS 202 Class 01</h1>"
   ]
  },
  {
   "cell_type": "markdown",
   "id": "4c4cfe46-7f35-4fcf-88ba-49f79a894527",
   "metadata": {},
   "source": [
    "<h2>Statistics and Histograms</h2>\n",
    "\n",
    "Inspired by [SticiGui Chapter 3](https://www.stat.berkeley.edu/~stark/SticiGui/Text/histograms.htm)"
   ]
  },
  {
   "cell_type": "markdown",
   "id": "7e2f15a1-6e47-4261-9ebc-6017f1d191c0",
   "metadata": {},
   "source": [
    "Histograms are superb tools for visualizing a distribution of some kind of measure. In this notebook, we will use the simple built-in routine `hist()` in __R__ to plot and examine histograms based on data shown in Chapter 3 of SticiGui and in wave 1 of the [National Longitudinal Study of Adolescent to Adult Health (Add Health)](https://addhealth.cpc.unc.edu/).\n",
    "\n",
    "<h3>Learning objectives:</h3>\n",
    "\n",
    "1. Sorted tables, like the board in [\"Chutes and Ladders\"](https://shop.hasbro.com/en-us/product/chutes-and-ladders-game/1095F835-5056-9047-F548-2F4D0AEF4ACC), quickly reveal percentiles\n",
    "2. Histograms show the spread in measurements\n",
    "\n",
    "To begin, please run the cells below to load up the libraries necessary to access data in Google Sheets. Make sure to run the cells in order."
   ]
  },
  {
   "cell_type": "code",
   "execution_count": null,
   "id": "635104b1-d28e-480d-aadf-42c62360f559",
   "metadata": {},
   "outputs": [],
   "source": [
    "# These are standard calls to load in packages\n",
    "install.packages(\"googlesheets4\")\n",
    "library(googlesheets4)\n",
    "# This call allows the notebook to skip Google authorization, to access publicly viewable files \n",
    "gs4_deauth()"
   ]
  },
  {
   "cell_type": "code",
   "execution_count": null,
   "id": "c881dd2a-c149-45ab-8cb2-268fc983548c",
   "metadata": {},
   "outputs": [],
   "source": [
    "# This is the URL for the public sheet\n",
    "sheet_url = \"https://docs.google.com/spreadsheets/d/1EU25WfiXQrQcLyz2xjqgT8XvI8_IMEG9plPCouy_14g/edit?usp=sharing\"\n",
    "\n",
    "# This call creates a data frame called \"gmeasures\" containing data from the range shown\n",
    "gmeasures <- read_sheet(sheet_url,\n",
    "                        range = \"A1:J11\")"
   ]
  },
  {
   "cell_type": "markdown",
   "id": "f15d9466-69ae-41f1-b3b9-45959f1e8084",
   "metadata": {},
   "source": [
    "<h3>1. Looking at a table</h3>\n",
    "\n",
    "Did Prof. Philip B. Stark also spend many hours staring at a <i>Chutes and Ladders</i> game perhaps? If you have, you know that a shortcut for adults when playing the game is to add each spin to your space number; and because the board is a 10x10 grid, you can either quickly jump to your next space, or use it to double-check your math when counting off steps one-by-one like how kids typically play.\n",
    "\n",
    "Here I've set up the data in a 10x10 matrix already, having copied it from SticiGui. Typically, data will sit in columns of tables instead, as we will see shortly. Let's look at the table."
   ]
  },
  {
   "cell_type": "code",
   "execution_count": null,
   "id": "ec424212-8c95-44f2-94ec-d3d3841eae3a",
   "metadata": {},
   "outputs": [],
   "source": [
    "# Show the dataframe\n",
    "gmeasures"
   ]
  },
  {
   "cell_type": "markdown",
   "id": "e6e231fc-e81e-4a18-b1d7-64bccc93214a",
   "metadata": {},
   "source": [
    "Like most languages, __R__ is picky about object types. In order to sort the table elements from smallest to largest, we first need to create a matrix containing the elements of the data frame, then we vectorize it, the we sort, and then we populate a new matrix with the sorted elements. Whew."
   ]
  },
  {
   "cell_type": "code",
   "execution_count": null,
   "id": "78a0b3d2-db31-46d1-a283-2e09807e2a7c",
   "metadata": {},
   "outputs": [],
   "source": [
    "gmeasures_mat = as.matrix(gmeasures)\n",
    "gmeasures_vec = as.vector(gmeasures_mat)\n",
    "sorted_gmeasures_vec <- sort(unlist(gmeasures_mat))\n",
    "sorted_gmeasures_mat <- matrix(sorted_gmeasures_vec, nrow = 10, ncol = 10, byrow = TRUE) \n",
    "sorted_gmeasures_mat"
   ]
  },
  {
   "cell_type": "markdown",
   "id": "a4c1842f-514d-4c7a-a0a6-bd182da81b64",
   "metadata": {},
   "source": [
    "As shown in SticiGui and in the accompanying slides, this 10x10 format is handy for quickly finding key percentiles. Square 10 on the <i>Chutes and Ladders</i> board is the upper right corner here, and it shows the 10th percentile.\n",
    "\n",
    "Can you find the 90th percentile?\n",
    "\n",
    "What about the 25th and 75th percentiles? With those in hand, can you calculate the <b>interquartile range (IQR)</b>? The IQR is the difference between the two middle quartiles, a.k.a. the 75th quartile minus the 25th quartile."
   ]
  },
  {
   "cell_type": "markdown",
   "id": "7ee287ce-51b4-4b05-80bd-1af78579fe0b",
   "metadata": {},
   "source": []
  },
  {
   "cell_type": "markdown",
   "id": "804c7e65-5fe5-4088-be4c-4975fd779e90",
   "metadata": {},
   "source": [
    "<h3>2. Histograms: The Visualization</h3>\n",
    "\n",
    "Here is a simple call to the built-in graphics in __R__, where we are using the vector of 100 observations rather than the 10x10 data frame or the matrix."
   ]
  },
  {
   "cell_type": "code",
   "execution_count": null,
   "id": "c759a918-6aa0-4814-99f9-e283f638ca0f",
   "metadata": {},
   "outputs": [],
   "source": [
    "hist(gmeasures_vec,\n",
    "     main = \"Figure 3-2: Histogram of deviations of g\", \n",
    "     xlab = \"Value\", \n",
    "     ylab = \"Frequency\", \n",
    "     col = \"gray\", \n",
    "     border = \"black\")"
   ]
  },
  {
   "cell_type": "markdown",
   "id": "e4b152ae-a109-4252-81d8-5da536a9a89d",
   "metadata": {},
   "source": [
    "Feel free to play around with the settings. (I often like to leave simple things simple when I can!)"
   ]
  },
  {
   "cell_type": "markdown",
   "id": "61b97ec7-93ec-4d96-b2a1-e28b6cf78e1f",
   "metadata": {},
   "source": [
    "<h3>Add Health data on heights</h3>\n",
    "\n",
    "The [National Longitudinal Study of Adolescent to Adult Health (Add Health)](https://addhealth.cpc.unc.edu/) is a panel survey of 6,500 Americans who were enrolled in grades 7-12 in 1994-95, and who were mostly born between 1977 and 1982. In a panel survey, participants are reinterviewed periodically. This constrasts with most large-scale government surveys that tend to interview more people only once. The Add Health cohort has been reinterviewed about every 5 years, and extensive questions in the survey produce rich data on the developing lives of participants.\n",
    "\n",
    "Let's examine height in inches, which was self-reported in wave 1. Height and other physical measures could also be measured objectively, by an interviewer with a measuring tape. This also happened in wave 1, and we will examine those data later. "
   ]
  },
  {
   "cell_type": "markdown",
   "id": "7e879a19-eb50-4895-88c2-0b88b8b8d8f5",
   "metadata": {},
   "source": [
    "Here is a vector containing a random selection of 100 observations of self-reported heights among people identified as female. \n",
    "Based on the [Data Collection Instrument and User Guide](https://adatawinter.site.wesleyan.edu/files/2017/08/AddHealth-Wave_1_Questionnaire-and-Codebook.pdf), I think Add Health probably began with \"biological sex\" as recorded for the person by the school, which likely drew from a parental report, and then asked interviewers to verify the measure by asking the respondent as subjectively needed."
   ]
  },
  {
   "cell_type": "code",
   "execution_count": null,
   "id": "b1e76c01-f570-4697-b61b-6a10d70e6d6e",
   "metadata": {},
   "outputs": [],
   "source": [
    "sheet_url_ah1 = \"https://docs.google.com/spreadsheets/d/1EVrb8li-wZ6UhsItF5jAHq_EKwDUKAjknurpERYpE7Y/edit?usp=sharing\"\n",
    "\n",
    "ah_height_f100 <- read_sheet(sheet_url_ah1,\n",
    "                             range = \"A1:C101\")"
   ]
  },
  {
   "cell_type": "markdown",
   "id": "0313cd44-ed8b-400b-a1e0-8fdf12c3c2b8",
   "metadata": {},
   "source": [
    "The __R__ routine `head()` is useful for showing the top part of a data frame. Here, we see that height in inches is in the column `height`."
   ]
  },
  {
   "cell_type": "code",
   "execution_count": null,
   "id": "e25019ad-f4a2-49dc-8be2-8ea87d30d262",
   "metadata": {},
   "outputs": [],
   "source": [
    "head(ah_height_f100)"
   ]
  },
  {
   "cell_type": "markdown",
   "id": "f47a3083-ef84-41d4-bf68-59aed2970d0b",
   "metadata": {},
   "source": [
    "Let's now do the same thing as above to sort the data, taking care to reference `ah_height_f100$height`, which is the `height` column in the data frame."
   ]
  },
  {
   "cell_type": "code",
   "execution_count": null,
   "id": "ce4a6519-f44f-49f2-bdc2-f19081e40161",
   "metadata": {},
   "outputs": [],
   "source": [
    "ah_height_f100_mat = as.matrix(ah_height_f100$height)\n",
    "ah_height_f100_vec = as.vector(ah_height_f100_mat)\n",
    "sorted_ah_height_f100_vec <- sort(unlist(ah_height_f100_mat))\n",
    "sorted_ah_height_f100_mat <- matrix(sorted_ah_height_f100_vec, nrow = 10, ncol = 10, byrow = TRUE) \n",
    "sorted_ah_height_f100_mat"
   ]
  },
  {
   "cell_type": "markdown",
   "id": "6659b7a1-fac4-4ffd-9f4d-7912df73fe4f",
   "metadata": {},
   "source": [
    "Can you identify useful quantiles like the 10th, 90th, 50th, 25th, and 75th?"
   ]
  },
  {
   "cell_type": "markdown",
   "id": "0158fb0b-20c8-4399-84d9-17752b6dff85",
   "metadata": {},
   "source": []
  },
  {
   "cell_type": "markdown",
   "id": "dbf2d77b-39ac-4c4a-9137-2ee462c0ebb7",
   "metadata": {},
   "source": [
    "Here is a histogram. Because these are 100 observations, the histogram is not a smooth bell curve."
   ]
  },
  {
   "cell_type": "code",
   "execution_count": null,
   "id": "2be6e3e5-1d59-46b1-955d-9599d77ce3ee",
   "metadata": {},
   "outputs": [],
   "source": [
    "hist(ah_height_f100$height,\n",
    "     main = \"Heights of 100 female Add Health respondents in wave 1\", \n",
    "     xlab = \"Inches\", \n",
    "     ylab = \"Frequency\", \n",
    "     col = \"gray\", \n",
    "     border = \"black\")"
   ]
  },
  {
   "cell_type": "markdown",
   "id": "94a66624-424a-4f17-a455-48f46bba9dd9",
   "metadata": {},
   "source": [
    "And now here's a look at the full dataset, which includes self-reported height observed for 3,309 females."
   ]
  },
  {
   "cell_type": "code",
   "execution_count": null,
   "id": "d85d3bc8-6642-4c7b-89bf-2eb26d691987",
   "metadata": {},
   "outputs": [],
   "source": [
    "sheet_url_ah2 = \"https://docs.google.com/spreadsheets/d/1ppDSHu7bfJRlXZFg1pQnl8aWJ7oKxp3BjRUMSOWKY1w/edit?usp=sharing\"\n",
    "\n",
    "ah_height_f <- read_sheet(sheet_url_ah2,\n",
    "                          range = \"A1:C3310\")"
   ]
  },
  {
   "cell_type": "code",
   "execution_count": null,
   "id": "340024e1-7835-4b8d-8e4e-915fd7d97cf1",
   "metadata": {},
   "outputs": [],
   "source": [
    "hist(ah_height_f$height,\n",
    "     main = \"Heights of 3,309 female Add Health respondents in wave 1\", \n",
    "     xlab = \"Inches\", \n",
    "     ylab = \"Frequency\", \n",
    "     col = \"gray\", \n",
    "     border = \"black\")"
   ]
  },
  {
   "cell_type": "markdown",
   "id": "f37212ce-253b-428f-8940-a8bb35ebf9c9",
   "metadata": {},
   "source": [
    "This is much more pleasing to the eye. It's like a cross section of heights within ages 13-18, which we might see in a [CDC growth chart](https://www.cdc.gov/growthcharts/data/set2clinical/cj41c072.pdf) as \"stature for age\" for example."
   ]
  },
  {
   "cell_type": "markdown",
   "id": "9c1fc503-4bc7-4559-bc17-4df9adcd8013",
   "metadata": {},
   "source": [
    "<div style=\"text-align: right\"> <span style=\"font-family:Papyrus; \">And they lived happily ever after. The End.</span></div>"
   ]
  },
  {
   "cell_type": "markdown",
   "id": "f607970b-66c2-4914-91e8-0ef0e356ae43",
   "metadata": {},
   "source": []
  }
 ],
 "metadata": {
  "kernelspec": {
   "display_name": "R",
   "language": "R",
   "name": "ir"
  },
  "language_info": {
   "codemirror_mode": "r",
   "file_extension": ".r",
   "mimetype": "text/x-r-source",
   "name": "R",
   "pygments_lexer": "r",
   "version": "4.3.2"
  }
 },
 "nbformat": 4,
 "nbformat_minor": 5
}

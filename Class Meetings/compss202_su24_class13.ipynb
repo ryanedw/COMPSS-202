{
 "cells": [
  {
   "cell_type": "markdown",
   "id": "c4943e00-491f-41d4-af95-91fd1238f12d",
   "metadata": {},
   "source": [
    "<img src=\"https://raw.githubusercontent.com/ryanedw/COMPSS-202-SU24/main/Images/UCB-macss.jpg\" width=\"120\" align=\"right\"/>\n",
    "<h1>COMPSS 202 Class 13</h1>"
   ]
  },
  {
   "cell_type": "markdown",
   "id": "4c4cfe46-7f35-4fcf-88ba-49f79a894527",
   "metadata": {},
   "source": [
    "<h2>Estimating Parameters</h2>\n",
    "\n",
    "Inspired by [SticiGui Chapter 25](https://www.stat.berkeley.edu/~stark/SticiGui/Text/estimation.htm) and by [SticiGui Chapter 26](https://www.stat.berkeley.edu/~stark/SticiGui/Text/confidenceIntervals.htm)"
   ]
  },
  {
   "cell_type": "markdown",
   "id": "9b77f72c-9bf6-4808-856d-7779e492179a",
   "metadata": {},
   "source": [
    "<h3>Learning objectives:</h3>\n",
    "\n",
    "<ol style=\"margin-top: 0; margin-bottom: 0;\">\n",
    "  <li>Suppose you’ve estimated a sample mean or proportion. The problem is that bias and sampling error could push the estimate higher or lower than the true value\n",
    "  </li>\n",
    "  <li>The standard error of an estimator is the standard deviation of that estimator, and when $x$ is continuous, $SE(\\bar{x}) = \\frac{s}{\\sqrt{n}}=\n",
    "\\frac{1}{\\sqrt{n}} \n",
    "\\sqrt{\n",
    "\\frac{1}{n-1}\n",
    "\\sum_{i=1}^n\n",
    "\\left(x_i-\\bar{x}\n",
    "\\right)^2\n",
    "}$\n",
    "  </li>\n",
    "  <li>A confidence interval of ±2 standard errors on either side of the mean captures about 95% of the possible true mean values. Statistical programs usually use 1.96, a critical value in the t distribution\n",
    "      </li>\n",
    "    </ul>\n",
    "   </li>\n",
    "</ol>\n",
    "\n",
    "\n",
    "\n"
   ]
  },
  {
   "cell_type": "markdown",
   "id": "1d66ba97-e239-451a-b4cd-60a2606a04b9",
   "metadata": {},
   "source": [
    "To begin, please run the cells below to load up the libraries necessary to access data in Google Sheets. Best practices include running the cells in order."
   ]
  },
  {
   "cell_type": "code",
   "execution_count": null,
   "id": "635104b1-d28e-480d-aadf-42c62360f559",
   "metadata": {},
   "outputs": [],
   "source": [
    "install.packages(\"googlesheets4\")\n",
    "library(googlesheets4)\n",
    "gs4_deauth()"
   ]
  },
  {
   "cell_type": "markdown",
   "id": "d0097a45-8cc5-42a7-987a-6fb0c34321e5",
   "metadata": {},
   "source": [
    "<h2>1. Loading in the Pearson heights data</h2>"
   ]
  },
  {
   "cell_type": "markdown",
   "id": "9ccedfdd-5a84-4314-a8d5-9a43043a6bda",
   "metadata": {},
   "source": [
    "Here again are 1,078 observations of \"fathers\" and \"sons\" from a well-known training dataset based on the historical work of [Karl Pearson](https://en.wikipedia.org/wiki/Karl_Pearson). Please see the Class 03 notebook for more details."
   ]
  },
  {
   "cell_type": "markdown",
   "id": "0cf5429b-3119-4bc7-81f2-22f113bcfc61",
   "metadata": {},
   "source": [
    "Here is a direct link to the Google Sheets file loaded in the cell below: [Pearson height data.sheets](https://docs.google.com/spreadsheets/d/1TZhFGjT-uXd9ScucSYkT0MNARNDMCRCbAQgx4jac-X8/edit?usp=drive_link)"
   ]
  },
  {
   "cell_type": "code",
   "execution_count": null,
   "id": "c881dd2a-c149-45ab-8cb2-268fc983548c",
   "metadata": {},
   "outputs": [],
   "source": [
    "sheet_url = \"https://docs.google.com/spreadsheets/d/1TZhFGjT-uXd9ScucSYkT0MNARNDMCRCbAQgx4jac-X8/edit?usp=drive_link\"\n",
    "\n",
    "pheights <- read_sheet(sheet_url,\n",
    "                       range = \"B13:D1091\")"
   ]
  },
  {
   "cell_type": "markdown",
   "id": "b344247a-9db0-48b0-8f00-d256095ac560",
   "metadata": {},
   "source": [
    "Calling `head()` provides a useful quick look at the top of the dataset. Calling `dim()` helps us make sure we have the right dataset loaded up in the correct way."
   ]
  },
  {
   "cell_type": "code",
   "execution_count": null,
   "id": "ec424212-8c95-44f2-94ec-d3d3841eae3a",
   "metadata": {},
   "outputs": [],
   "source": [
    "head(pheights)\n",
    "dim(pheights)\n",
    "n = nrow(pheights)\n",
    "n"
   ]
  },
  {
   "cell_type": "markdown",
   "id": "e76f91a4-c592-4583-ac15-1a804d3542d6",
   "metadata": {},
   "source": [
    "<h2>2. Means and their standard errors</h2>"
   ]
  },
  {
   "cell_type": "markdown",
   "id": "25b916ca-186e-4cd8-b871-b7d31a1bd33f",
   "metadata": {},
   "source": [
    "The sample mean is an unbiased estimator of the population mean. In the Pearson heights data, the obvious metrics to examine are the sample averages of father's height ($\\bar{x}$) and son's height ($\\bar{y}$). Here they are:"
   ]
  },
  {
   "cell_type": "code",
   "execution_count": null,
   "id": "411987c0-bf3e-49f6-8bbc-ff8b1abc0203",
   "metadata": {},
   "outputs": [],
   "source": [
    "meanX = mean(pheights$father)\n",
    "meanY = mean(pheights$son)\n",
    "\n",
    "meanX\n",
    "meanY"
   ]
  },
  {
   "cell_type": "markdown",
   "id": "9bbaef46-fd58-41ad-92e2-01e1a179c64f",
   "metadata": {},
   "source": [
    "The standard errors of these means tell us how confident we are about the true population means involved. Let $\\mu_x$ represent the average height of all British fathers around 1900, and let $\\mu_y$ be the average height of all British sons around 1900. \n",
    "\n",
    "In other words, we see sample means of $\\bar{x} = 67.7$ inches for fathers and $\\bar{y} = 68.7$ inches for sons, in a sample of $n = 1,078$ observations. What is the precision of these estimates? What can we say about the likely values of the true population average heights of fathers and sons? "
   ]
  },
  {
   "cell_type": "markdown",
   "id": "79d7eaf0-4708-4b12-a8a0-28b812a25746",
   "metadata": {},
   "source": [
    "The standard error of the sample mean equals the sample standard deviation divided by the square root of the sample size:\n",
    "\n",
    "$$\n",
    "SE(\\bar{x}) = \\frac{s}{\\sqrt{n}}=\n",
    "\\frac{1}{\\sqrt{n}} \n",
    "\\sqrt{\n",
    "\\frac{1}{n-1}\n",
    "\\sum_{i=1}^n\n",
    "\\left(x_i-\\bar{x}\n",
    "\\right)^2\n",
    "}\n",
    "$$"
   ]
  },
  {
   "cell_type": "code",
   "execution_count": null,
   "id": "eb631d3c-afed-4fce-8cce-d27c4d07c337",
   "metadata": {},
   "outputs": [],
   "source": [
    "# short form\n",
    "semx = sd(pheights$father) / sqrt(n)\n",
    "semx\n",
    "\n",
    "# long form\n",
    "semx = ( sum( (pheights$father - meanX)^2 ) / (n-1) )^0.5 / sqrt(n)\n",
    "semx"
   ]
  },
  {
   "cell_type": "markdown",
   "id": "4dd46729-3adb-49ba-8a58-58f24aac50eb",
   "metadata": {},
   "source": [
    "In words, the standard error of $\\bar{x} = 67.7$ is $0.0836$. "
   ]
  },
  {
   "cell_type": "code",
   "execution_count": null,
   "id": "a32b493c-757d-42bd-911f-7aa3d09dc6a5",
   "metadata": {},
   "outputs": [],
   "source": [
    "# short form\n",
    "semy = sd(pheights$son) / sqrt(n)\n",
    "semy\n",
    "\n",
    "# long form\n",
    "semy = ( sum( (pheights$son - meanY)^2 ) / (n-1) )^0.5 / sqrt(n)\n",
    "semy"
   ]
  },
  {
   "cell_type": "markdown",
   "id": "828b13d0-25f9-403c-9752-9bf670c34cea",
   "metadata": {},
   "source": [
    "And here, the standard error of $\\bar{y} = 68.7$ is $0.0858$."
   ]
  },
  {
   "cell_type": "markdown",
   "id": "7291261e-b508-4c6f-96aa-7ddacc6d6c86",
   "metadata": {},
   "source": [
    "By the Central Limit Theorem, these averages are approximately distributed normal with standard deviations equal to their standard errors. Therefore we predict that 95% of the sample means in any sample drawn from this population will fall within about ± 2 $SE$'s on either side. In other words, a 95% confidence interval runs from $\\bar{x} - 2 \\ SE(\\bar{x})$ to  $\\bar{x} + 2 \\ SE(\\bar{x})$."
   ]
  },
  {
   "cell_type": "markdown",
   "id": "af27448d-dad8-4d23-b007-abdebebed223",
   "metadata": {},
   "source": [
    "For father's height, that 95% confidence interval is:"
   ]
  },
  {
   "cell_type": "code",
   "execution_count": null,
   "id": "f66d0b2b-8d27-4843-a87a-e90de76449ff",
   "metadata": {},
   "outputs": [],
   "source": [
    "meanX - 2*semx\n",
    "meanX + 2*semx"
   ]
  },
  {
   "cell_type": "markdown",
   "id": "44f680b1-7f67-4a24-b348-449ccce3974d",
   "metadata": {},
   "source": [
    "For son's height, the 95% confidence interval is:"
   ]
  },
  {
   "cell_type": "code",
   "execution_count": null,
   "id": "34c63dc8-3459-4150-801f-49c9d062a067",
   "metadata": {},
   "outputs": [],
   "source": [
    "meanY - 2*semy\n",
    "meanY + 2*semy"
   ]
  },
  {
   "cell_type": "markdown",
   "id": "3759fe8b-c31f-4312-a33c-003bb6aa40a9",
   "metadata": {},
   "source": [
    "<h2>3. Hypothesis testing</h2>"
   ]
  },
  {
   "cell_type": "markdown",
   "id": "febc8c6e-2156-4ccd-b0d7-138c634df4fb",
   "metadata": {},
   "source": [
    "In words, here is what these results mean:\n",
    "\n",
    "Because the 95% confidence interval around father's average height runs from $67.5$ to $67.9$, we can reject any null hypothesis that father's true average height is shorter than $67.5$ or taller than $67.9$.\n",
    "\n",
    "Because the 95% confidence interval around son's average height runs from $68.5$ to $68.9$, we can reject any null hypothesis that father's true average height is shorter than $68.5$ or taller than $68.9$."
   ]
  },
  {
   "cell_type": "markdown",
   "id": "301d9773-2c05-4ad0-a405-567d6d1950a2",
   "metadata": {},
   "source": [
    "Precisely why these are \"null hypotheses\" probably seems a little nebulous. A proper formulation of a null hypothesis under these conditions would be something like this:\n",
    "* $H_0$: The population average father's height minus 67 is zero, $\\mu_x - 67.0 = 0$\n",
    "* $H'_0$: The population average son's height minus 69 is zero, $\\mu_y - 69.0 = 0$\n",
    "\n",
    "For both of these, the proposed value ($67.0$ or $69.0$) lies outside the relevant 95% confidence interval, so in each case we reject the null hypothesis that the difference is zero, or equivalently that the true means equal those proposed values. \n",
    "\n",
    "More succinctly, we reject the hypotheses that $\\mu_x = 67.0$ or that $\\mu_y = 69.0$, because those values lie outside the 95% confidence intervals."
   ]
  },
  {
   "cell_type": "markdown",
   "id": "aabb6c6b-7a2f-4861-b7dc-27be233f5bb8",
   "metadata": {},
   "source": [
    "---"
   ]
  },
  {
   "cell_type": "markdown",
   "id": "40297ffe-4a5d-40d8-802c-764716ed8a13",
   "metadata": {},
   "source": [
    "<h2>4. Beyond the Pale</h2>"
   ]
  },
  {
   "cell_type": "markdown",
   "id": "6cf207ef-392d-4ed8-ba87-d5881c9b8fb0",
   "metadata": {},
   "source": [
    "As we will see in Class 14, ordinary least squares via `lm()` can also give us simple results like this. In this case, if we are seeking the sample average and its standard error for subgroups that are measured in different columns of the data frame, we can look at just those columns. "
   ]
  },
  {
   "cell_type": "code",
   "execution_count": null,
   "id": "15a94c2b-546b-4e14-9ccc-91572e9dfb89",
   "metadata": {},
   "outputs": [],
   "source": [
    "reg_f <- lm(father ~ 1,\n",
    "            data = pheights\n",
    "            )\n",
    "summary(reg_f)"
   ]
  },
  {
   "cell_type": "code",
   "execution_count": null,
   "id": "29d80e84-d4a9-4a74-831a-db89ee392420",
   "metadata": {},
   "outputs": [],
   "source": [
    "reg_s <- lm(son ~ 1,\n",
    "            data = pheights\n",
    "            )\n",
    "summary(reg_s)"
   ]
  },
  {
   "cell_type": "markdown",
   "id": "ca39651a-31b6-4974-9e9c-6a728efaff55",
   "metadata": {},
   "source": [
    "---"
   ]
  },
  {
   "cell_type": "markdown",
   "id": "a6808a0e-0455-4ab7-92a3-fbb0a64358cc",
   "metadata": {},
   "source": [
    "In the regression results above, `Estimate` shows the average, and `Std. Error` shows its standard error."
   ]
  },
  {
   "cell_type": "markdown",
   "id": "576095d4-7828-4e8b-8d3a-acb8b90971ae",
   "metadata": {},
   "source": [
    "<div style=\"text-align: right\"> <span style=\"font-family:Papyrus; \">And they lived happily ever after. The End.</span></div>"
   ]
  },
  {
   "cell_type": "markdown",
   "id": "2aa5e11e-5830-43d9-8e14-7a2558058fdb",
   "metadata": {},
   "source": []
  }
 ],
 "metadata": {
  "kernelspec": {
   "display_name": "R",
   "language": "R",
   "name": "ir"
  },
  "language_info": {
   "codemirror_mode": "r",
   "file_extension": ".r",
   "mimetype": "text/x-r-source",
   "name": "R",
   "pygments_lexer": "r",
   "version": "4.3.2"
  }
 },
 "nbformat": 4,
 "nbformat_minor": 5
}
